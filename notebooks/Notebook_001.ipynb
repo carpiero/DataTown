{
 "cells": [
  {
   "cell_type": "code",
   "execution_count": 1,
   "metadata": {},
   "outputs": [],
   "source": [
    "import pandas as pd\n",
    "import numpy as np\n",
    "\n",
    "CCAA=['01','02','03','04','05','06','07','08','09','10','11','12','13','16','17']\n",
    "\n",
    "    \n",
    "df_total_coste=pd.DataFrame()    \n",
    "\n",
    "\n",
    "for x in CCAA:\n",
    "    for y in range(2):\n",
    "        df=pd.read_excel(f'/home/carpiero/IRONHACK/Proyecto FINAL/CESEL_2018_{x}.xlsx', sheet_name=y,header=10)\n",
    "        df_total_coste=pd.concat([df_total_coste,df], axis=0)\n",
    "    \n",
    "\n",
    "    \n"
   ]
  },
  {
   "cell_type": "code",
   "execution_count": 2,
   "metadata": {},
   "outputs": [],
   "source": [
    "df_total_coste[df_total_coste.select_dtypes(['object']).columns] = \\\n",
    "            df_total_coste.select_dtypes(['object']).apply(lambda x: x.astype('category'))"
   ]
  },
  {
   "cell_type": "code",
   "execution_count": 3,
   "metadata": {},
   "outputs": [],
   "source": [
    "df_total_coste.to_parquet(f'../data/raw/df_total_coste.parquet')"
   ]
  },
  {
   "cell_type": "code",
   "execution_count": 4,
   "metadata": {},
   "outputs": [],
   "source": [
    "df_total_indicadores=pd.DataFrame()    \n",
    "\n",
    "\n",
    "for x in CCAA:\n",
    "    for y in range(2,4):\n",
    "        df=pd.read_excel(f'/home/carpiero/IRONHACK/Proyecto FINAL/CESEL_2018_{x}.xlsx', sheet_name=y,header=10)\n",
    "        df_total_indicadores=pd.concat([df_total_indicadores,df], axis=0)\n",
    "    \n",
    "    \n",
    "    \n",
    "    "
   ]
  },
  {
   "cell_type": "code",
   "execution_count": 5,
   "metadata": {},
   "outputs": [],
   "source": [
    "df_total_indicadores[df_total_indicadores.select_dtypes(['object']).columns] = \\\n",
    "            df_total_indicadores.select_dtypes(['object']).apply(lambda x: x.astype('category'))"
   ]
  },
  {
   "cell_type": "code",
   "execution_count": 6,
   "metadata": {},
   "outputs": [],
   "source": [
    "df_total_indicadores.to_parquet(f'../data/raw/df_total_indicadores.parquet')"
   ]
  },
  {
   "cell_type": "code",
   "execution_count": 7,
   "metadata": {},
   "outputs": [],
   "source": [
    "\n",
    "df_coste=df_total_coste[['Provincia', 'Código Ente Principal','Tipo Ente Principal'\n",
    "                         , 'Nombre Ente Principal','Descripción',  'coste_efectivo']]\n",
    "\n",
    "\n",
    "df_indicadores=df_total_indicadores[['Provincia', 'Código Ente Principal','Tipo Ente Principal', \n",
    "                                     'Nombre Ente Principal','Descripción',  'Unidades físicas de referencia', 'Nº unidades']]\n"
   ]
  },
  {
   "cell_type": "code",
   "execution_count": 8,
   "metadata": {},
   "outputs": [],
   "source": [
    "df_coste.to_parquet(f'../data/processed/df_coste.parquet')\n",
    "df_indicadores.to_parquet(f'../data/processed/df_indicadores.parquet')"
   ]
  },
  {
   "cell_type": "code",
   "execution_count": null,
   "metadata": {},
   "outputs": [],
   "source": []
  },
  {
   "cell_type": "code",
   "execution_count": null,
   "metadata": {},
   "outputs": [],
   "source": []
  },
  {
   "cell_type": "code",
   "execution_count": null,
   "metadata": {},
   "outputs": [],
   "source": []
  },
  {
   "cell_type": "code",
   "execution_count": null,
   "metadata": {},
   "outputs": [],
   "source": []
  },
  {
   "cell_type": "code",
   "execution_count": null,
   "metadata": {},
   "outputs": [],
   "source": []
  },
  {
   "cell_type": "code",
   "execution_count": null,
   "metadata": {},
   "outputs": [],
   "source": []
  }
 ],
 "metadata": {
  "kernelspec": {
   "display_name": "Python [conda env:ml_env]",
   "language": "python",
   "name": "conda-env-ml_env-py"
  },
  "language_info": {
   "codemirror_mode": {
    "name": "ipython",
    "version": 3
   },
   "file_extension": ".py",
   "mimetype": "text/x-python",
   "name": "python",
   "nbconvert_exporter": "python",
   "pygments_lexer": "ipython3",
   "version": "3.7.7"
  }
 },
 "nbformat": 4,
 "nbformat_minor": 4
}


