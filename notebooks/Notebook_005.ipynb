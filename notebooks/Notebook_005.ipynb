{
 "cells": [
  {
   "cell_type": "code",
   "execution_count": 40,
   "metadata": {},
   "outputs": [],
   "source": [
    "from sklearn.preprocessing import RobustScaler, StandardScaler\n",
    "import pandas_profiling\n",
    "from statsmodels.robust.scale import huber\n",
    "import pandas as pd\n",
    "import matplotlib.pyplot as plt\n",
    "import seaborn as sns\n",
    "import numpy as np\n",
    "import plotly.express as px\n",
    "import re\n",
    "import locale\n",
    "import geopandas\n",
    "plt.style.use('seaborn')\n",
    "%matplotlib inline\n",
    "import seaborn as sns\n",
    "sns.set_style('dark')  \n",
    "\n",
    "pd.set_option('display.max_rows', 0)\n",
    "pd.set_option('display.max_columns', 0)\n",
    "\n",
    "\n",
    "df_final_pob=pd.read_parquet('../data/main_processed/df_final_pob.parquet')\n",
    "\n",
    "df_indicadores_pob=pd.read_parquet('../data/main_processed/df_indicadores_pob.parquet')\n",
    "\n",
    "df_indicadores_pob_pivot=pd.read_parquet('../data/main_processed/df_indicadores_pob_pivot.parquet')\n",
    "\n",
    "df_final_pob_melt=pd.read_parquet('../data/main_processed/df_final_pob_melt.parquet')\n",
    "\n",
    "df_final_pob_melt_PC=pd.read_parquet('../data/main_processed/df_final_pob_melt_PC.parquet')\n",
    "\n",
    "CCAA_CO = pd.read_parquet('../data/main_processed/CCAA_CO.parquet')\n",
    "MUNI_CO = pd.read_parquet('../data/main_processed/MUNI_CO.parquet')\n",
    "PROV_CO = pd.read_parquet('../data/main_processed/PROV_CO.parquet')\n",
    "\n",
    "df_final_pob_dropdown=pd.read_parquet('../data/main_processed/df_final_pob_dropdown.parquet')\n",
    "\n",
    "df_final_pob_dropdown_c=pd.read_parquet('../data/main_processed/df_final_pob_dropdown_c.parquet')\n",
    "\n",
    "df_final_pob_poblaciontext=pd.read_parquet('../data/main_processed/df_final_pob_poblaciontext.parquet')"
   ]
  },
  {
   "cell_type": "code",
   "execution_count": 2,
   "metadata": {},
   "outputs": [],
   "source": [
    "CCAA_types='Andalucía'\n",
    "municipio_types= 'Sevilla'\n",
    "cohorte='1.000-2.000'\n",
    "partida_de_coste_types='Abastecimiento de agua potable'"
   ]
  },
  {
   "cell_type": "code",
   "execution_count": 20,
   "metadata": {},
   "outputs": [
    {
     "data": {
      "text/plain": [
       "Index(['CCAA', 'Provincia', 'Tipo Ente Principal', 'Nombre Ente Principal',\n",
       "       'Código Ente Principal', 'Abastecimiento de agua potable',\n",
       "       'Abastos, mercados, lonjas ', 'Acceso a los núcleos de población',\n",
       "       'Actividades funerarias', 'Alcantarillado', 'Alumbrado público',\n",
       "       'Biblioteca pública', 'Cementerio', 'Comercio ambulante',\n",
       "       'Conservación y rehabilitación de la edificación',\n",
       "       'Conservación, mantenimiento y vigilancia de los edificios destinados a educación',\n",
       "       'Cooperar con las Administraciones educativas en la obtención de solares',\n",
       "       'Equipamientos culturales',\n",
       "       'Evacuación y tratamiento de aguas residuales', 'Ferias ',\n",
       "       'Información y promoción de la actividad turística de interés y ámbito local',\n",
       "       'Infraestructura viaria y otros equipamientos de titularidad de la entidad local',\n",
       "       'Instalaciones de ocupación del tiempo libre',\n",
       "       'Instalaciones deportivas', 'Instalaciones deportivas de uso público',\n",
       "       'Limpieza viaria', 'Medio ambiente urbano',\n",
       "       'Medio ambiente urbano: Gestión de los residuos sólidos urbanos',\n",
       "       'Medio ambiente urbano: Parques y jardines públicos',\n",
       "       'Necesidad social y atención inmediata a personas en riesgo de exclusión social',\n",
       "       'Parque público',\n",
       "       'Participar en la vigilancia del cumplimiento de la escolaridad obligatoria',\n",
       "       'Pavimentación de las vías públicas', 'Policía local',\n",
       "       'Prevención y extinción de incendios', 'Promoción de la cultura',\n",
       "       'Promoción de la participación de los ciudadanos en las T.I.C.',\n",
       "       'Promoción del deporte',\n",
       "       'Promoción y gestión de la vivienda de protección pública',\n",
       "       'Protección civil',\n",
       "       'Protección contra contaminación acústica, lumínica y atmosférica',\n",
       "       'Protección de la salubridad pública',\n",
       "       'Protección y gestión del Patrimonio histórico', 'Recogida de residuos',\n",
       "       'Transporte colectivo urbano de viajeros', 'Tratamiento de residuos',\n",
       "       'Tráfico, estacionamiento de vehículos y movilidad',\n",
       "       'Urbanismo: planeamiento, gestión, ejecución y disciplina urbanística',\n",
       "       'codigoM', 'Población 2018', 'TOTAL',\n",
       "       'PC_Abastecimiento de agua potable', 'PC_Abastos, mercados, lonjas ',\n",
       "       'PC_Acceso a los núcleos de población', 'PC_Actividades funerarias',\n",
       "       'PC_Alcantarillado', 'PC_Alumbrado público', 'PC_Biblioteca pública',\n",
       "       'PC_Cementerio', 'PC_Comercio ambulante',\n",
       "       'PC_Conservación y rehabilitación de la edificación',\n",
       "       'PC_Conservación, mantenimiento y vigilancia de los edificios destinados a educación',\n",
       "       'PC_Cooperar con las Administraciones educativas en la obtención de solares',\n",
       "       'PC_Equipamientos culturales',\n",
       "       'PC_Evacuación y tratamiento de aguas residuales', 'PC_Ferias ',\n",
       "       'PC_Información y promoción de la actividad turística de interés y ámbito local',\n",
       "       'PC_Infraestructura viaria y otros equipamientos de titularidad de la entidad local',\n",
       "       'PC_Instalaciones de ocupación del tiempo libre',\n",
       "       'PC_Instalaciones deportivas',\n",
       "       'PC_Instalaciones deportivas de uso público', 'PC_Limpieza viaria',\n",
       "       'PC_Medio ambiente urbano',\n",
       "       'PC_Medio ambiente urbano: Gestión de los residuos sólidos urbanos',\n",
       "       'PC_Medio ambiente urbano: Parques y jardines públicos',\n",
       "       'PC_Necesidad social y atención inmediata a personas en riesgo de exclusión social',\n",
       "       'PC_Parque público',\n",
       "       'PC_Participar en la vigilancia del cumplimiento de la escolaridad obligatoria',\n",
       "       'PC_Pavimentación de las vías públicas', 'PC_Policía local',\n",
       "       'PC_Prevención y extinción de incendios', 'PC_Promoción de la cultura',\n",
       "       'PC_Promoción de la participación de los ciudadanos en las T.I.C.',\n",
       "       'PC_Promoción del deporte',\n",
       "       'PC_Promoción y gestión de la vivienda de protección pública',\n",
       "       'PC_Protección civil',\n",
       "       'PC_Protección contra contaminación acústica, lumínica y atmosférica',\n",
       "       'PC_Protección de la salubridad pública',\n",
       "       'PC_Protección y gestión del Patrimonio histórico',\n",
       "       'PC_Recogida de residuos', 'PC_Transporte colectivo urbano de viajeros',\n",
       "       'PC_Tratamiento de residuos',\n",
       "       'PC_Tráfico, estacionamiento de vehículos y movilidad',\n",
       "       'PC_Urbanismo: planeamiento, gestión, ejecución y disciplina urbanística',\n",
       "       'PC_TOTAL', 'cohorte_pob', 'codigo_geo'],\n",
       "      dtype='object')"
      ]
     },
     "execution_count": 20,
     "metadata": {},
     "output_type": "execute_result"
    }
   ],
   "source": [
    "df_final_pob.columns"
   ]
  },
  {
   "cell_type": "code",
   "execution_count": 46,
   "metadata": {},
   "outputs": [
    {
     "data": {
      "text/html": [
       "<div>\n",
       "<style scoped>\n",
       "    .dataframe tbody tr th:only-of-type {\n",
       "        vertical-align: middle;\n",
       "    }\n",
       "\n",
       "    .dataframe tbody tr th {\n",
       "        vertical-align: top;\n",
       "    }\n",
       "\n",
       "    .dataframe thead th {\n",
       "        text-align: right;\n",
       "    }\n",
       "</style>\n",
       "<table border=\"1\" class=\"dataframe\">\n",
       "  <thead>\n",
       "    <tr style=\"text-align: right;\">\n",
       "      <th></th>\n",
       "      <th>CCAA</th>\n",
       "      <th>Provincia</th>\n",
       "      <th>Tipo Ente Principal</th>\n",
       "      <th>Nombre Ente Principal</th>\n",
       "      <th>Código Ente Principal</th>\n",
       "      <th>Población 2018</th>\n",
       "      <th>TOTAL</th>\n",
       "      <th>PC_TOTAL</th>\n",
       "      <th>cohorte_pob</th>\n",
       "      <th>codigo_geo</th>\n",
       "      <th>PC_Transporte colectivo urbano de viajeros</th>\n",
       "    </tr>\n",
       "  </thead>\n",
       "  <tbody>\n",
       "    <tr>\n",
       "      <th>4713</th>\n",
       "      <td>Comunitat Valenciana</td>\n",
       "      <td>Valencia / València</td>\n",
       "      <td>Ayuntamiento</td>\n",
       "      <td>Cortes de Pallás</td>\n",
       "      <td>17-46-099-AA-000</td>\n",
       "      <td>818.0</td>\n",
       "      <td>2298901.04</td>\n",
       "      <td>2810.392469</td>\n",
       "      <td>0-1.000</td>\n",
       "      <td>46099</td>\n",
       "      <td>182.532066</td>\n",
       "    </tr>\n",
       "    <tr>\n",
       "      <th>1080</th>\n",
       "      <td>Aragón</td>\n",
       "      <td>Zaragoza</td>\n",
       "      <td>Ayuntamiento</td>\n",
       "      <td>Terrer</td>\n",
       "      <td>02-50-253-AA-000</td>\n",
       "      <td>485.0</td>\n",
       "      <td>151877.37</td>\n",
       "      <td>313.149216</td>\n",
       "      <td>0-1.000</td>\n",
       "      <td>50253</td>\n",
       "      <td>148.143505</td>\n",
       "    </tr>\n",
       "    <tr>\n",
       "      <th>739</th>\n",
       "      <td>Aragón</td>\n",
       "      <td>Huesca</td>\n",
       "      <td>Ayuntamiento</td>\n",
       "      <td>Montanuy</td>\n",
       "      <td>02-22-157-AA-000</td>\n",
       "      <td>215.0</td>\n",
       "      <td>948738.30</td>\n",
       "      <td>4412.736279</td>\n",
       "      <td>0-1.000</td>\n",
       "      <td>22157</td>\n",
       "      <td>84.242372</td>\n",
       "    </tr>\n",
       "    <tr>\n",
       "      <th>4047</th>\n",
       "      <td>Galicia</td>\n",
       "      <td>Ourense</td>\n",
       "      <td>Ayuntamiento</td>\n",
       "      <td>Chandrexa de Queixa</td>\n",
       "      <td>11-32-029-AA-000</td>\n",
       "      <td>466.0</td>\n",
       "      <td>410719.13</td>\n",
       "      <td>881.371524</td>\n",
       "      <td>0-1.000</td>\n",
       "      <td>32029</td>\n",
       "      <td>69.012876</td>\n",
       "    </tr>\n",
       "    <tr>\n",
       "      <th>4373</th>\n",
       "      <td>La Rioja</td>\n",
       "      <td>Rioja, La</td>\n",
       "      <td>Ayuntamiento</td>\n",
       "      <td>Villamediana de Iregua</td>\n",
       "      <td>16-26-168-AA-000</td>\n",
       "      <td>7973.0</td>\n",
       "      <td>2807779.30</td>\n",
       "      <td>352.160956</td>\n",
       "      <td>5.000-10.000</td>\n",
       "      <td>26168</td>\n",
       "      <td>58.369590</td>\n",
       "    </tr>\n",
       "    <tr>\n",
       "      <th>3487</th>\n",
       "      <td>Cataluña</td>\n",
       "      <td>Tarragona</td>\n",
       "      <td>Ayuntamiento</td>\n",
       "      <td>Mont-roig del Camp</td>\n",
       "      <td>09-43-092-AA-000</td>\n",
       "      <td>11809.0</td>\n",
       "      <td>17218001.91</td>\n",
       "      <td>1458.040639</td>\n",
       "      <td>10.000-20.000</td>\n",
       "      <td>43092</td>\n",
       "      <td>51.692594</td>\n",
       "    </tr>\n",
       "    <tr>\n",
       "      <th>744</th>\n",
       "      <td>Aragón</td>\n",
       "      <td>Huesca</td>\n",
       "      <td>Ayuntamiento</td>\n",
       "      <td>Panticosa</td>\n",
       "      <td>02-22-170-AA-000</td>\n",
       "      <td>786.0</td>\n",
       "      <td>1325951.00</td>\n",
       "      <td>1686.960560</td>\n",
       "      <td>0-1.000</td>\n",
       "      <td>22170</td>\n",
       "      <td>49.239186</td>\n",
       "    </tr>\n",
       "    <tr>\n",
       "      <th>2071</th>\n",
       "      <td>Castilla y León</td>\n",
       "      <td>Salamanca</td>\n",
       "      <td>Ayuntamiento</td>\n",
       "      <td>Carrascal de Barregas</td>\n",
       "      <td>07-37-087-AA-000</td>\n",
       "      <td>1188.0</td>\n",
       "      <td>539318.04</td>\n",
       "      <td>453.971414</td>\n",
       "      <td>1.000-2.000</td>\n",
       "      <td>37087</td>\n",
       "      <td>48.031077</td>\n",
       "    </tr>\n",
       "    <tr>\n",
       "      <th>2884</th>\n",
       "      <td>Cataluña</td>\n",
       "      <td>Barcelona</td>\n",
       "      <td>Ayuntamiento</td>\n",
       "      <td>Lliçà d'Amunt</td>\n",
       "      <td>09-08-107-AA-000</td>\n",
       "      <td>15111.0</td>\n",
       "      <td>14262110.35</td>\n",
       "      <td>943.823066</td>\n",
       "      <td>10.000-20.000</td>\n",
       "      <td>8107</td>\n",
       "      <td>44.032108</td>\n",
       "    </tr>\n",
       "    <tr>\n",
       "      <th>1149</th>\n",
       "      <td>Principado de Asturias</td>\n",
       "      <td>Asturias</td>\n",
       "      <td>Ayuntamiento</td>\n",
       "      <td>Mieres (Asturias)</td>\n",
       "      <td>03-33-037-AA-000</td>\n",
       "      <td>38428.0</td>\n",
       "      <td>21444849.51</td>\n",
       "      <td>558.052709</td>\n",
       "      <td>20.000-50.000</td>\n",
       "      <td>33037</td>\n",
       "      <td>39.976665</td>\n",
       "    </tr>\n",
       "  </tbody>\n",
       "</table>\n",
       "</div>"
      ],
      "text/plain": [
       "                        CCAA  ... PC_Transporte colectivo urbano de viajeros\n",
       "4713    Comunitat Valenciana  ...                                 182.532066\n",
       "1080                  Aragón  ...                                 148.143505\n",
       "739                   Aragón  ...                                  84.242372\n",
       "4047                 Galicia  ...                                  69.012876\n",
       "4373                La Rioja  ...                                  58.369590\n",
       "3487                Cataluña  ...                                  51.692594\n",
       "744                   Aragón  ...                                  49.239186\n",
       "2071         Castilla y León  ...                                  48.031077\n",
       "2884                Cataluña  ...                                  44.032108\n",
       "1149  Principado de Asturias  ...                                  39.976665\n",
       "\n",
       "[10 rows x 11 columns]"
      ]
     },
     "execution_count": 46,
     "metadata": {},
     "output_type": "execute_result"
    }
   ],
   "source": [
    "top=df_final_pob[['CCAA', 'Provincia', 'Tipo Ente Principal', 'Nombre Ente Principal',\n",
    "       'Código Ente Principal', 'Población 2018', 'TOTAL',\n",
    "       'PC_TOTAL', 'cohorte_pob', 'codigo_geo','PC_Transporte colectivo urbano de viajeros']].sort_values(by='PC_Transporte colectivo urbano de viajeros',ascending=False)\n",
    "\n",
    "top.loc[top['Población 2018']<50000].head(10)"
   ]
  },
  {
   "cell_type": "code",
   "execution_count": 21,
   "metadata": {},
   "outputs": [],
   "source": [
    "def remove_outlier(df , col):\n",
    "    q1 = df[col].quantile(0.25)\n",
    "    q3 = df[col].quantile(0.75)\n",
    "    iqr = q3 - q1  # Interquartile range\n",
    "    fence_low = q1 - 1.5 * iqr\n",
    "    fence_high = q3 + 1.5 * iqr\n",
    "    df_clean = df.loc[(df[col] > fence_low) & (df[col] < fence_high)]\n",
    "    return df_clean"
   ]
  },
  {
   "cell_type": "code",
   "execution_count": 37,
   "metadata": {},
   "outputs": [
    {
     "data": {
      "text/plain": [
       "count    4590.000000\n",
       "mean      498.593307\n",
       "std       274.651685\n",
       "min         8.587786\n",
       "25%       290.163578\n",
       "50%       459.274292\n",
       "75%       658.355898\n",
       "max      1319.990990\n",
       "Name: PC_TOTAL, dtype: float64"
      ]
     },
     "execution_count": 37,
     "metadata": {},
     "output_type": "execute_result"
    }
   ],
   "source": [
    "media=remove_outlier(df_final_pob , 'PC_TOTAL')\n",
    "media=media.loc[(media['PC_TOTAL']>1)]\n",
    "media['PC_TOTAL'].describe()"
   ]
  },
  {
   "cell_type": "code",
   "execution_count": 38,
   "metadata": {},
   "outputs": [
    {
     "data": {
      "text/plain": [
       "count    4869.000000\n",
       "mean      573.644779\n",
       "std       458.223443\n",
       "min         0.000000\n",
       "25%       299.443169\n",
       "50%       477.853185\n",
       "75%       707.883274\n",
       "max      5323.980060\n",
       "Name: PC_TOTAL, dtype: float64"
      ]
     },
     "execution_count": 38,
     "metadata": {},
     "output_type": "execute_result"
    }
   ],
   "source": [
    "df_final_pob['PC_TOTAL'].describe()\n"
   ]
  },
  {
   "cell_type": "code",
   "execution_count": 39,
   "metadata": {},
   "outputs": [
    {
     "data": {
      "text/html": [
       "<div>\n",
       "<style scoped>\n",
       "    .dataframe tbody tr th:only-of-type {\n",
       "        vertical-align: middle;\n",
       "    }\n",
       "\n",
       "    .dataframe tbody tr th {\n",
       "        vertical-align: top;\n",
       "    }\n",
       "\n",
       "    .dataframe thead th {\n",
       "        text-align: right;\n",
       "    }\n",
       "</style>\n",
       "<table border=\"1\" class=\"dataframe\">\n",
       "  <thead>\n",
       "    <tr style=\"text-align: right;\">\n",
       "      <th></th>\n",
       "      <th>cohorte_pob</th>\n",
       "      <th>PC_TOTAL</th>\n",
       "    </tr>\n",
       "  </thead>\n",
       "  <tbody>\n",
       "    <tr>\n",
       "      <th>0</th>\n",
       "      <td>0-1.000</td>\n",
       "      <td>468.166118</td>\n",
       "    </tr>\n",
       "    <tr>\n",
       "      <th>1</th>\n",
       "      <td>1.000-2.000</td>\n",
       "      <td>481.373380</td>\n",
       "    </tr>\n",
       "    <tr>\n",
       "      <th>2</th>\n",
       "      <td>2.000-5.000</td>\n",
       "      <td>484.612568</td>\n",
       "    </tr>\n",
       "    <tr>\n",
       "      <th>3</th>\n",
       "      <td>5.000-10.000</td>\n",
       "      <td>536.498690</td>\n",
       "    </tr>\n",
       "    <tr>\n",
       "      <th>4</th>\n",
       "      <td>10.000-20.000</td>\n",
       "      <td>578.294082</td>\n",
       "    </tr>\n",
       "    <tr>\n",
       "      <th>5</th>\n",
       "      <td>20.000-50.000</td>\n",
       "      <td>612.877528</td>\n",
       "    </tr>\n",
       "    <tr>\n",
       "      <th>6</th>\n",
       "      <td>50.000-100.000</td>\n",
       "      <td>676.218481</td>\n",
       "    </tr>\n",
       "    <tr>\n",
       "      <th>7</th>\n",
       "      <td>100.000-200.000</td>\n",
       "      <td>753.632462</td>\n",
       "    </tr>\n",
       "    <tr>\n",
       "      <th>8</th>\n",
       "      <td>200.000-500.000</td>\n",
       "      <td>788.807067</td>\n",
       "    </tr>\n",
       "    <tr>\n",
       "      <th>9</th>\n",
       "      <td>más de 500.000</td>\n",
       "      <td>941.120950</td>\n",
       "    </tr>\n",
       "  </tbody>\n",
       "</table>\n",
       "</div>"
      ],
      "text/plain": [
       "       cohorte_pob    PC_TOTAL\n",
       "0          0-1.000  468.166118\n",
       "1      1.000-2.000  481.373380\n",
       "2      2.000-5.000  484.612568\n",
       "3     5.000-10.000  536.498690\n",
       "4    10.000-20.000  578.294082\n",
       "5    20.000-50.000  612.877528\n",
       "6   50.000-100.000  676.218481\n",
       "7  100.000-200.000  753.632462\n",
       "8  200.000-500.000  788.807067\n",
       "9   más de 500.000  941.120950"
      ]
     },
     "execution_count": 39,
     "metadata": {},
     "output_type": "execute_result"
    }
   ],
   "source": [
    "\n",
    "# print(media.shape)\n",
    "pc='PC_TOTAL'\n",
    "pivot=media.pivot_table(index=['cohorte_pob'],values=[pc],aggfunc=np.mean).reset_index()\n",
    "pivot"
   ]
  },
  {
   "cell_type": "code",
   "execution_count": 46,
   "metadata": {},
   "outputs": [
    {
     "data": {
      "text/html": [
       "<div>\n",
       "<style scoped>\n",
       "    .dataframe tbody tr th:only-of-type {\n",
       "        vertical-align: middle;\n",
       "    }\n",
       "\n",
       "    .dataframe tbody tr th {\n",
       "        vertical-align: top;\n",
       "    }\n",
       "\n",
       "    .dataframe thead th {\n",
       "        text-align: right;\n",
       "    }\n",
       "</style>\n",
       "<table border=\"1\" class=\"dataframe\">\n",
       "  <thead>\n",
       "    <tr style=\"text-align: right;\">\n",
       "      <th></th>\n",
       "      <th>Tamaño municipio</th>\n",
       "      <th>Coste efectivo medio por habitante</th>\n",
       "    </tr>\n",
       "  </thead>\n",
       "  <tbody>\n",
       "    <tr>\n",
       "      <th>0</th>\n",
       "      <td>Hasta 1.000 habitantes</td>\n",
       "      <td>696</td>\n",
       "    </tr>\n",
       "    <tr>\n",
       "      <th>1</th>\n",
       "      <td>Entre 1.000 y 2.000 habitantes</td>\n",
       "      <td>552</td>\n",
       "    </tr>\n",
       "    <tr>\n",
       "      <th>2</th>\n",
       "      <td>Entre 2.000 y 5.000 habitantes</td>\n",
       "      <td>496</td>\n",
       "    </tr>\n",
       "    <tr>\n",
       "      <th>3</th>\n",
       "      <td>Entre 5.000 y 10.000 habitantes</td>\n",
       "      <td>479</td>\n",
       "    </tr>\n",
       "    <tr>\n",
       "      <th>4</th>\n",
       "      <td>Entre 10.000 y 20.000 habitantes</td>\n",
       "      <td>514</td>\n",
       "    </tr>\n",
       "    <tr>\n",
       "      <th>5</th>\n",
       "      <td>Entre 20.000 y 50.000 habitantes</td>\n",
       "      <td>528</td>\n",
       "    </tr>\n",
       "    <tr>\n",
       "      <th>6</th>\n",
       "      <td>Entre 50.000 y 100.000 habitantes</td>\n",
       "      <td>591</td>\n",
       "    </tr>\n",
       "    <tr>\n",
       "      <th>7</th>\n",
       "      <td>Entre 100.000 y 200.000 habitantes</td>\n",
       "      <td>705</td>\n",
       "    </tr>\n",
       "    <tr>\n",
       "      <th>8</th>\n",
       "      <td>Entre 200.000 y 500.000 habitantes</td>\n",
       "      <td>682</td>\n",
       "    </tr>\n",
       "    <tr>\n",
       "      <th>9</th>\n",
       "      <td>Más de 500.000 habitantes</td>\n",
       "      <td>864</td>\n",
       "    </tr>\n",
       "  </tbody>\n",
       "</table>\n",
       "</div>"
      ],
      "text/plain": [
       "                      Tamaño municipio  Coste efectivo medio por habitante\n",
       "0               Hasta 1.000 habitantes                                 696\n",
       "1       Entre 1.000 y 2.000 habitantes                                 552\n",
       "2       Entre 2.000 y 5.000 habitantes                                 496\n",
       "3      Entre 5.000 y 10.000 habitantes                                 479\n",
       "4     Entre 10.000 y 20.000 habitantes                                 514\n",
       "5     Entre 20.000 y 50.000 habitantes                                 528\n",
       "6   Entre 50.000 y 100.000 habitantes                                  591\n",
       "7  Entre 100.000 y 200.000 habitantes                                  705\n",
       "8   Entre 200.000 y 500.000 habitantes                                 682\n",
       "9            Más de 500.000 habitantes                                 864"
      ]
     },
     "execution_count": 46,
     "metadata": {},
     "output_type": "execute_result"
    }
   ],
   "source": [
    "df_table = {'Tamaño municipio': ['Hasta 1.000 habitantes','Entre 1.000 y 2.000 habitantes','Entre 2.000 y 5.000 habitantes',\n",
    "                                'Entre 5.000 y 10.000 habitantes','Entre 10.000 y 20.000 habitantes','Entre 20.000 y 50.000 habitantes',\n",
    "                                'Entre 50.000 y 100.000 habitantes ','Entre 100.000 y 200.000 habitantes ','Entre 200.000 y 500.000 habitantes',\n",
    "                                'Más de 500.000 habitantes'],'Coste efectivo medio por habitante':[696,552,496,479,514,528,591,705,682,864] }\n",
    "df_table = pd.DataFrame(data=df_table)\n",
    "\n",
    "\n",
    "\n",
    "df_table"
   ]
  },
  {
   "cell_type": "code",
   "execution_count": 48,
   "metadata": {},
   "outputs": [
    {
     "data": {
      "text/plain": [
       "<AxesSubplot:xlabel='Tamaño municipio', ylabel='Coste efectivo medio por habitante'>"
      ]
     },
     "execution_count": 48,
     "metadata": {},
     "output_type": "execute_result"
    },
    {
     "data": {
      "image/png": "[encoded data removed]",
      "text/plain": [
       "<Figure size 432x288 with 1 Axes>"
      ]
     },
     "metadata": {},
     "output_type": "display_data"
    }
   ],
   "source": [
    "sns.lineplot(data=df_table, x='Tamaño municipio', y=\"Coste efectivo medio por habitante\",  palette='bright')\n"
   ]
  },
  {
   "cell_type": "code",
   "execution_count": null,
   "metadata": {},
   "outputs": [],
   "source": []
  },
  {
   "cell_type": "code",
   "execution_count": 49,
   "metadata": {},
   "outputs": [
    {
     "data": {
      "application/vnd.plotly.v1+json": {
       "config": {
        "plotlyServerURL": "https://plot.ly"
       },
       "data": [
        {
         "hovertemplate": "Tamaño municipio=%{x}<br>Coste efectivo medio por habitante=%{y}<extra></extra>",
         "legendgroup": "",
         "line": {
          "color": "#636efa",
          "dash": "solid"
         },
         "mode": "lines",
         "name": "",
         "orientation": "v",
         "showlegend": false,
         "type": "scatter",
         "x": [
          "Hasta 1.000 habitantes",
          "Entre 1.000 y 2.000 habitantes",
          "Entre 2.000 y 5.000 habitantes",
          "Entre 5.000 y 10.000 habitantes",
          "Entre 10.000 y 20.000 habitantes",
          "Entre 20.000 y 50.000 habitantes",
          "Entre 50.000 y 100.000 habitantes ",
          "Entre 100.000 y 200.000 habitantes ",
          "Entre 200.000 y 500.000 habitantes",
          "Más de 500.000 habitantes"
         ],
         "xaxis": "x",
         "y": [
          696,
          552,
          496,
          479,
          514,
          528,
          591,
          705,
          682,
          864
         ],
         "yaxis": "y"
        }
       ],
       "layout": {
        "autosize": true,
        "legend": {
         "tracegroupgap": 0
        },
        "margin": {
         "t": 60
        },
        "template": {
         "data": {
          "bar": [
           {
            "error_x": {
             "color": "#2a3f5f"
            },
            "error_y": {
             "color": "#2a3f5f"
            },
            "marker": {
             "line": {
              "color": "#E5ECF6",
              "width": 0.5
             }
            },
            "type": "bar"
           }
          ],
          "barpolar": [
           {
            "marker": {
             "line": {
              "color": "#E5ECF6",
              "width": 0.5
             }
            },
            "type": "barpolar"
           }
          ],
          "carpet": [
           {
            "aaxis": {
             "endlinecolor": "#2a3f5f",
             "gridcolor": "white",
             "linecolor": "white",
             "minorgridcolor": "white",
             "startlinecolor": "#2a3f5f"
            },
            "baxis": {
             "endlinecolor": "#2a3f5f",
             "gridcolor": "white",
             "linecolor": "white",
             "minorgridcolor": "white",
             "startlinecolor": "#2a3f5f"
            },
            "type": "carpet"
           }
          ],
          "choropleth": [
           {
            "colorbar": {
             "outlinewidth": 0,
             "ticks": ""
            },
            "type": "choropleth"
           }
          ],
          "contour": [
           {
            "colorbar": {
             "outlinewidth": 0,
             "ticks": ""
            },
            "colorscale": [
             [
              0,
              "#0d0887"
             ],
             [
              0.1111111111111111,
              "#46039f"
             ],
             [
              0.2222222222222222,
              "#7201a8"
             ],
             [
              0.3333333333333333,
              "#9c179e"
             ],
             [
              0.4444444444444444,
              "#bd3786"
             ],
             [
              0.5555555555555556,
              "#d8576b"
             ],
             [
              0.6666666666666666,
              "#ed7953"
             ],
             [
              0.7777777777777778,
              "#fb9f3a"
             ],
             [
              0.8888888888888888,
              "#fdca26"
             ],
             [
              1,
              "#f0f921"
             ]
            ],
            "type": "contour"
           }
          ],
          "contourcarpet": [
           {
            "colorbar": {
             "outlinewidth": 0,
             "ticks": ""
            },
            "type": "contourcarpet"
           }
          ],
          "heatmap": [
           {
            "colorbar": {
             "outlinewidth": 0,
             "ticks": ""
            },
            "colorscale": [
             [
              0,
              "#0d0887"
             ],
             [
              0.1111111111111111,
              "#46039f"
             ],
             [
              0.2222222222222222,
              "#7201a8"
             ],
             [
              0.3333333333333333,
              "#9c179e"
             ],
             [
              0.4444444444444444,
              "#bd3786"
             ],
             [
              0.5555555555555556,
              "#d8576b"
             ],
             [
              0.6666666666666666,
              "#ed7953"
             ],
             [
              0.7777777777777778,
              "#fb9f3a"
             ],
             [
              0.8888888888888888,
              "#fdca26"
             ],
             [
              1,
              "#f0f921"
             ]
            ],
            "type": "heatmap"
           }
          ],
          "heatmapgl": [
           {
            "colorbar": {
             "outlinewidth": 0,
             "ticks": ""
            },
            "colorscale": [
             [
              0,
              "#0d0887"
             ],
             [
              0.1111111111111111,
              "#46039f"
             ],
             [
              0.2222222222222222,
              "#7201a8"
             ],
             [
              0.3333333333333333,
              "#9c179e"
             ],
             [
              0.4444444444444444,
              "#bd3786"
             ],
             [
              0.5555555555555556,
              "#d8576b"
             ],
             [
              0.6666666666666666,
              "#ed7953"
             ],
             [
              0.7777777777777778,
              "#fb9f3a"
             ],
             [
              0.8888888888888888,
              "#fdca26"
             ],
             [
              1,
              "#f0f921"
             ]
            ],
            "type": "heatmapgl"
           }
          ],
          "histogram": [
           {
            "marker": {
             "colorbar": {
              "outlinewidth": 0,
              "ticks": ""
             }
            },
            "type": "histogram"
           }
          ],
          "histogram2d": [
           {
            "colorbar": {
             "outlinewidth": 0,
             "ticks": ""
            },
            "colorscale": [
             [
              0,
              "#0d0887"
             ],
             [
              0.1111111111111111,
              "#46039f"
             ],
             [
              0.2222222222222222,
              "#7201a8"
             ],
             [
              0.3333333333333333,
              "#9c179e"
             ],
             [
              0.4444444444444444,
              "#bd3786"
             ],
             [
              0.5555555555555556,
              "#d8576b"
             ],
             [
              0.6666666666666666,
              "#ed7953"
             ],
             [
              0.7777777777777778,
              "#fb9f3a"
             ],
             [
              0.8888888888888888,
              "#fdca26"
             ],
             [
              1,
              "#f0f921"
             ]
            ],
            "type": "histogram2d"
           }
          ],
          "histogram2dcontour": [
           {
            "colorbar": {
             "outlinewidth": 0,
             "ticks": ""
            },
            "colorscale": [
             [
              0,
              "#0d0887"
             ],
             [
              0.1111111111111111,
              "#46039f"
             ],
             [
              0.2222222222222222,
              "#7201a8"
             ],
             [
              0.3333333333333333,
              "#9c179e"
             ],
             [
              0.4444444444444444,
              "#bd3786"
             ],
             [
              0.5555555555555556,
              "#d8576b"
             ],
             [
              0.6666666666666666,
              "#ed7953"
             ],
             [
              0.7777777777777778,
              "#fb9f3a"
             ],
             [
              0.8888888888888888,
              "#fdca26"
             ],
             [
              1,
              "#f0f921"
             ]
            ],
            "type": "histogram2dcontour"
           }
          ],
          "mesh3d": [
           {
            "colorbar": {
             "outlinewidth": 0,
             "ticks": ""
            },
            "type": "mesh3d"
           }
          ],
          "parcoords": [
           {
            "line": {
             "colorbar": {
              "outlinewidth": 0,
              "ticks": ""
             }
            },
            "type": "parcoords"
           }
          ],
          "pie": [
           {
            "automargin": true,
            "type": "pie"
           }
          ],
          "scatter": [
           {
            "marker": {
             "colorbar": {
              "outlinewidth": 0,
              "ticks": ""
             }
            },
            "type": "scatter"
           }
          ],
          "scatter3d": [
           {
            "line": {
             "colorbar": {
              "outlinewidth": 0,
              "ticks": ""
             }
            },
            "marker": {
             "colorbar": {
              "outlinewidth": 0,
              "ticks": ""
             }
            },
            "type": "scatter3d"
           }
          ],
          "scattercarpet": [
           {
            "marker": {
             "colorbar": {
              "outlinewidth": 0,
              "ticks": ""
             }
            },
            "type": "scattercarpet"
           }
          ],
          "scattergeo": [
           {
            "marker": {
             "colorbar": {
              "outlinewidth": 0,
              "ticks": ""
             }
            },
            "type": "scattergeo"
           }
          ],
          "scattergl": [
           {
            "marker": {
             "colorbar": {
              "outlinewidth": 0,
              "ticks": ""
             }
            },
            "type": "scattergl"
           }
          ],
          "scattermapbox": [
           {
            "marker": {
             "colorbar": {
              "outlinewidth": 0,
              "ticks": ""
             }
            },
            "type": "scattermapbox"
           }
          ],
          "scatterpolar": [
           {
            "marker": {
             "colorbar": {
              "outlinewidth": 0,
              "ticks": ""
             }
            },
            "type": "scatterpolar"
           }
          ],
          "scatterpolargl": [
           {
            "marker": {
             "colorbar": {
              "outlinewidth": 0,
              "ticks": ""
             }
            },
            "type": "scatterpolargl"
           }
          ],
          "scatterternary": [
           {
            "marker": {
             "colorbar": {
              "outlinewidth": 0,
              "ticks": ""
             }
            },
            "type": "scatterternary"
           }
          ],
          "surface": [
           {
            "colorbar": {
             "outlinewidth": 0,
             "ticks": ""
            },
            "colorscale": [
             [
              0,
              "#0d0887"
             ],
             [
              0.1111111111111111,
              "#46039f"
             ],
             [
              0.2222222222222222,
              "#7201a8"
             ],
             [
              0.3333333333333333,
              "#9c179e"
             ],
             [
              0.4444444444444444,
              "#bd3786"
             ],
             [
              0.5555555555555556,
              "#d8576b"
             ],
             [
              0.6666666666666666,
              "#ed7953"
             ],
             [
              0.7777777777777778,
              "#fb9f3a"
             ],
             [
              0.8888888888888888,
              "#fdca26"
             ],
             [
              1,
              "#f0f921"
             ]
            ],
            "type": "surface"
           }
          ],
          "table": [
           {
            "cells": {
             "fill": {
              "color": "#EBF0F8"
             },
             "line": {
              "color": "white"
             }
            },
            "header": {
             "fill": {
              "color": "#C8D4E3"
             },
             "line": {
              "color": "white"
             }
            },
            "type": "table"
           }
          ]
         },
         "layout": {
          "annotationdefaults": {
           "arrowcolor": "#2a3f5f",
           "arrowhead": 0,
           "arrowwidth": 1
          },
          "coloraxis": {
           "colorbar": {
            "outlinewidth": 0,
            "ticks": ""
           }
          },
          "colorscale": {
           "diverging": [
            [
             0,
             "#8e0152"
            ],
            [
             0.1,
             "#c51b7d"
            ],
            [
             0.2,
             "#de77ae"
            ],
            [
             0.3,
             "#f1b6da"
            ],
            [
             0.4,
             "#fde0ef"
            ],
            [
             0.5,
             "#f7f7f7"
            ],
            [
             0.6,
             "#e6f5d0"
            ],
            [
             0.7,
             "#b8e186"
            ],
            [
             0.8,
             "#7fbc41"
            ],
            [
             0.9,
             "#4d9221"
            ],
            [
             1,
             "#276419"
            ]
           ],
           "sequential": [
            [
             0,
             "#0d0887"
            ],
            [
             0.1111111111111111,
             "#46039f"
            ],
            [
             0.2222222222222222,
             "#7201a8"
            ],
            [
             0.3333333333333333,
             "#9c179e"
            ],
            [
             0.4444444444444444,
             "#bd3786"
            ],
            [
             0.5555555555555556,
             "#d8576b"
            ],
            [
             0.6666666666666666,
             "#ed7953"
            ],
            [
             0.7777777777777778,
             "#fb9f3a"
            ],
            [
             0.8888888888888888,
             "#fdca26"
            ],
            [
             1,
             "#f0f921"
            ]
           ],
           "sequentialminus": [
            [
             0,
             "#0d0887"
            ],
            [
             0.1111111111111111,
             "#46039f"
            ],
            [
             0.2222222222222222,
             "#7201a8"
            ],
            [
             0.3333333333333333,
             "#9c179e"
            ],
            [
             0.4444444444444444,
             "#bd3786"
            ],
            [
             0.5555555555555556,
             "#d8576b"
            ],
            [
             0.6666666666666666,
             "#ed7953"
            ],
            [
             0.7777777777777778,
             "#fb9f3a"
            ],
            [
             0.8888888888888888,
             "#fdca26"
            ],
            [
             1,
             "#f0f921"
            ]
           ]
          },
          "colorway": [
           "#636efa",
           "#EF553B",
           "#00cc96",
           "#ab63fa",
           "#FFA15A",
           "#19d3f3",
           "#FF6692",
           "#B6E880",
           "#FF97FF",
           "#FECB52"
          ],
          "font": {
           "color": "#2a3f5f"
          },
          "geo": {
           "bgcolor": "white",
           "lakecolor": "white",
           "landcolor": "#E5ECF6",
           "showlakes": true,
           "showland": true,
           "subunitcolor": "white"
          },
          "hoverlabel": {
           "align": "left"
          },
          "hovermode": "closest",
          "mapbox": {
           "style": "light"
          },
          "paper_bgcolor": "white",
          "plot_bgcolor": "#E5ECF6",
          "polar": {
           "angularaxis": {
            "gridcolor": "white",
            "linecolor": "white",
            "ticks": ""
           },
           "bgcolor": "#E5ECF6",
           "radialaxis": {
            "gridcolor": "white",
            "linecolor": "white",
            "ticks": ""
           }
          },
          "scene": {
           "xaxis": {
            "backgroundcolor": "#E5ECF6",
            "gridcolor": "white",
            "gridwidth": 2,
            "linecolor": "white",
            "showbackground": true,
            "ticks": "",
            "zerolinecolor": "white"
           },
           "yaxis": {
            "backgroundcolor": "#E5ECF6",
            "gridcolor": "white",
            "gridwidth": 2,
            "linecolor": "white",
            "showbackground": true,
            "ticks": "",
            "zerolinecolor": "white"
           },
           "zaxis": {
            "backgroundcolor": "#E5ECF6",
            "gridcolor": "white",
            "gridwidth": 2,
            "linecolor": "white",
            "showbackground": true,
            "ticks": "",
            "zerolinecolor": "white"
           }
          },
          "shapedefaults": {
           "line": {
            "color": "#2a3f5f"
           }
          },
          "ternary": {
           "aaxis": {
            "gridcolor": "white",
            "linecolor": "white",
            "ticks": ""
           },
           "baxis": {
            "gridcolor": "white",
            "linecolor": "white",
            "ticks": ""
           },
           "bgcolor": "#E5ECF6",
           "caxis": {
            "gridcolor": "white",
            "linecolor": "white",
            "ticks": ""
           }
          },
          "title": {
           "x": 0.05
          },
          "xaxis": {
           "automargin": true,
           "gridcolor": "white",
           "linecolor": "white",
           "ticks": "",
           "title": {
            "standoff": 15
           },
           "zerolinecolor": "white",
           "zerolinewidth": 2
          },
          "yaxis": {
           "automargin": true,
           "gridcolor": "white",
           "linecolor": "white",
           "ticks": "",
           "title": {
            "standoff": 15
           },
           "zerolinecolor": "white",
           "zerolinewidth": 2
          }
         }
        },
        "xaxis": {
         "anchor": "y",
         "autorange": true,
         "domain": [
          0,
          1
         ],
         "range": [
          0,
          9
         ],
         "title": {
          "text": "Tamaño municipio"
         },
         "type": "category"
        },
        "yaxis": {
         "anchor": "x",
         "autorange": true,
         "domain": [
          0,
          1
         ],
         "range": [
          457.6111111111111,
          885.3888888888889
         ],
         "title": {
          "text": "Coste efectivo medio por habitante"
         },
         "type": "linear"
        }
       }
      },
      "image/png": "[encoded data removed]",
      "text/html": [
       "<div>\n",
       "        \n",
       "        \n",
       "            <div id=\"e74b61bf-2e98-42a3-b117-92601b80aa38\" class=\"plotly-graph-div\" style=\"height:525px; width:100%;\"></div>\n",
       "            <script type=\"text/javascript\">\n",
       "                require([\"plotly\"], function(Plotly) {\n",
       "                    window.PLOTLYENV=window.PLOTLYENV || {};\n",
       "                    \n",
       "                if (document.getElementById(\"e74b61bf-2e98-42a3-b117-92601b80aa38\")) {\n",
       "                    Plotly.newPlot(\n",
       "                        'e74b61bf-2e98-42a3-b117-92601b80aa38',\n",
       "                        [{\"hovertemplate\": \"Tama\\u00f1o municipio=%{x}<br>Coste efectivo medio por habitante=%{y}<extra></extra>\", \"legendgroup\": \"\", \"line\": {\"color\": \"#636efa\", \"dash\": \"solid\"}, \"mode\": \"lines\", \"name\": \"\", \"orientation\": \"v\", \"showlegend\": false, \"type\": \"scatter\", \"x\": [\"Hasta 1.000 habitantes\", \"Entre 1.000 y 2.000 habitantes\", \"Entre 2.000 y 5.000 habitantes\", \"Entre 5.000 y 10.000 habitantes\", \"Entre 10.000 y 20.000 habitantes\", \"Entre 20.000 y 50.000 habitantes\", \"Entre 50.000 y 100.000 habitantes \", \"Entre 100.000 y 200.000 habitantes \", \"Entre 200.000 y 500.000 habitantes\", \"M\\u00e1s de 500.000 habitantes\"], \"xaxis\": \"x\", \"y\": [696, 552, 496, 479, 514, 528, 591, 705, 682, 864], \"yaxis\": \"y\"}],\n",
       "                        {\"legend\": {\"tracegroupgap\": 0}, \"margin\": {\"t\": 60}, \"template\": {\"data\": {\"bar\": [{\"error_x\": {\"color\": \"#2a3f5f\"}, \"error_y\": {\"color\": \"#2a3f5f\"}, \"marker\": {\"line\": {\"color\": \"#E5ECF6\", \"width\": 0.5}}, \"type\": \"bar\"}], \"barpolar\": [{\"marker\": {\"line\": {\"color\": \"#E5ECF6\", \"width\": 0.5}}, \"type\": \"barpolar\"}], \"carpet\": [{\"aaxis\": {\"endlinecolor\": \"#2a3f5f\", \"gridcolor\": \"white\", \"linecolor\": \"white\", \"minorgridcolor\": \"white\", \"startlinecolor\": \"#2a3f5f\"}, \"baxis\": {\"endlinecolor\": \"#2a3f5f\", \"gridcolor\": \"white\", \"linecolor\": \"white\", \"minorgridcolor\": \"white\", \"startlinecolor\": \"#2a3f5f\"}, \"type\": \"carpet\"}], \"choropleth\": [{\"colorbar\": {\"outlinewidth\": 0, \"ticks\": \"\"}, \"type\": \"choropleth\"}], \"contour\": [{\"colorbar\": {\"outlinewidth\": 0, \"ticks\": \"\"}, \"colorscale\": [[0.0, \"#0d0887\"], [0.1111111111111111, \"#46039f\"], [0.2222222222222222, \"#7201a8\"], [0.3333333333333333, \"#9c179e\"], [0.4444444444444444, \"#bd3786\"], [0.5555555555555556, \"#d8576b\"], [0.6666666666666666, \"#ed7953\"], [0.7777777777777778, \"#fb9f3a\"], [0.8888888888888888, \"#fdca26\"], [1.0, \"#f0f921\"]], \"type\": \"contour\"}], \"contourcarpet\": [{\"colorbar\": {\"outlinewidth\": 0, \"ticks\": \"\"}, \"type\": \"contourcarpet\"}], \"heatmap\": [{\"colorbar\": {\"outlinewidth\": 0, \"ticks\": \"\"}, \"colorscale\": [[0.0, \"#0d0887\"], [0.1111111111111111, \"#46039f\"], [0.2222222222222222, \"#7201a8\"], [0.3333333333333333, \"#9c179e\"], [0.4444444444444444, \"#bd3786\"], [0.5555555555555556, \"#d8576b\"], [0.6666666666666666, \"#ed7953\"], [0.7777777777777778, \"#fb9f3a\"], [0.8888888888888888, \"#fdca26\"], [1.0, \"#f0f921\"]], \"type\": \"heatmap\"}], \"heatmapgl\": [{\"colorbar\": {\"outlinewidth\": 0, \"ticks\": \"\"}, \"colorscale\": [[0.0, \"#0d0887\"], [0.1111111111111111, \"#46039f\"], [0.2222222222222222, \"#7201a8\"], [0.3333333333333333, \"#9c179e\"], [0.4444444444444444, \"#bd3786\"], [0.5555555555555556, \"#d8576b\"], [0.6666666666666666, \"#ed7953\"], [0.7777777777777778, \"#fb9f3a\"], [0.8888888888888888, \"#fdca26\"], [1.0, \"#f0f921\"]], \"type\": \"heatmapgl\"}], \"histogram\": [{\"marker\": {\"colorbar\": {\"outlinewidth\": 0, \"ticks\": \"\"}}, \"type\": \"histogram\"}], \"histogram2d\": [{\"colorbar\": {\"outlinewidth\": 0, \"ticks\": \"\"}, \"colorscale\": [[0.0, \"#0d0887\"], [0.1111111111111111, \"#46039f\"], [0.2222222222222222, \"#7201a8\"], [0.3333333333333333, \"#9c179e\"], [0.4444444444444444, \"#bd3786\"], [0.5555555555555556, \"#d8576b\"], [0.6666666666666666, \"#ed7953\"], [0.7777777777777778, \"#fb9f3a\"], [0.8888888888888888, \"#fdca26\"], [1.0, \"#f0f921\"]], \"type\": \"histogram2d\"}], \"histogram2dcontour\": [{\"colorbar\": {\"outlinewidth\": 0, \"ticks\": \"\"}, \"colorscale\": [[0.0, \"#0d0887\"], [0.1111111111111111, \"#46039f\"], [0.2222222222222222, \"#7201a8\"], [0.3333333333333333, \"#9c179e\"], [0.4444444444444444, \"#bd3786\"], [0.5555555555555556, \"#d8576b\"], [0.6666666666666666, \"#ed7953\"], [0.7777777777777778, \"#fb9f3a\"], [0.8888888888888888, \"#fdca26\"], [1.0, \"#f0f921\"]], \"type\": \"histogram2dcontour\"}], \"mesh3d\": [{\"colorbar\": {\"outlinewidth\": 0, \"ticks\": \"\"}, \"type\": \"mesh3d\"}], \"parcoords\": [{\"line\": {\"colorbar\": {\"outlinewidth\": 0, \"ticks\": \"\"}}, \"type\": \"parcoords\"}], \"pie\": [{\"automargin\": true, \"type\": \"pie\"}], \"scatter\": [{\"marker\": {\"colorbar\": {\"outlinewidth\": 0, \"ticks\": \"\"}}, \"type\": \"scatter\"}], \"scatter3d\": [{\"line\": {\"colorbar\": {\"outlinewidth\": 0, \"ticks\": \"\"}}, \"marker\": {\"colorbar\": {\"outlinewidth\": 0, \"ticks\": \"\"}}, \"type\": \"scatter3d\"}], \"scattercarpet\": [{\"marker\": {\"colorbar\": {\"outlinewidth\": 0, \"ticks\": \"\"}}, \"type\": \"scattercarpet\"}], \"scattergeo\": [{\"marker\": {\"colorbar\": {\"outlinewidth\": 0, \"ticks\": \"\"}}, \"type\": \"scattergeo\"}], \"scattergl\": [{\"marker\": {\"colorbar\": {\"outlinewidth\": 0, \"ticks\": \"\"}}, \"type\": \"scattergl\"}], \"scattermapbox\": [{\"marker\": {\"colorbar\": {\"outlinewidth\": 0, \"ticks\": \"\"}}, \"type\": \"scattermapbox\"}], \"scatterpolar\": [{\"marker\": {\"colorbar\": {\"outlinewidth\": 0, \"ticks\": \"\"}}, \"type\": \"scatterpolar\"}], \"scatterpolargl\": [{\"marker\": {\"colorbar\": {\"outlinewidth\": 0, \"ticks\": \"\"}}, \"type\": \"scatterpolargl\"}], \"scatterternary\": [{\"marker\": {\"colorbar\": {\"outlinewidth\": 0, \"ticks\": \"\"}}, \"type\": \"scatterternary\"}], \"surface\": [{\"colorbar\": {\"outlinewidth\": 0, \"ticks\": \"\"}, \"colorscale\": [[0.0, \"#0d0887\"], [0.1111111111111111, \"#46039f\"], [0.2222222222222222, \"#7201a8\"], [0.3333333333333333, \"#9c179e\"], [0.4444444444444444, \"#bd3786\"], [0.5555555555555556, \"#d8576b\"], [0.6666666666666666, \"#ed7953\"], [0.7777777777777778, \"#fb9f3a\"], [0.8888888888888888, \"#fdca26\"], [1.0, \"#f0f921\"]], \"type\": \"surface\"}], \"table\": [{\"cells\": {\"fill\": {\"color\": \"#EBF0F8\"}, \"line\": {\"color\": \"white\"}}, \"header\": {\"fill\": {\"color\": \"#C8D4E3\"}, \"line\": {\"color\": \"white\"}}, \"type\": \"table\"}]}, \"layout\": {\"annotationdefaults\": {\"arrowcolor\": \"#2a3f5f\", \"arrowhead\": 0, \"arrowwidth\": 1}, \"coloraxis\": {\"colorbar\": {\"outlinewidth\": 0, \"ticks\": \"\"}}, \"colorscale\": {\"diverging\": [[0, \"#8e0152\"], [0.1, \"#c51b7d\"], [0.2, \"#de77ae\"], [0.3, \"#f1b6da\"], [0.4, \"#fde0ef\"], [0.5, \"#f7f7f7\"], [0.6, \"#e6f5d0\"], [0.7, \"#b8e186\"], [0.8, \"#7fbc41\"], [0.9, \"#4d9221\"], [1, \"#276419\"]], \"sequential\": [[0.0, \"#0d0887\"], [0.1111111111111111, \"#46039f\"], [0.2222222222222222, \"#7201a8\"], [0.3333333333333333, \"#9c179e\"], [0.4444444444444444, \"#bd3786\"], [0.5555555555555556, \"#d8576b\"], [0.6666666666666666, \"#ed7953\"], [0.7777777777777778, \"#fb9f3a\"], [0.8888888888888888, \"#fdca26\"], [1.0, \"#f0f921\"]], \"sequentialminus\": [[0.0, \"#0d0887\"], [0.1111111111111111, \"#46039f\"], [0.2222222222222222, \"#7201a8\"], [0.3333333333333333, \"#9c179e\"], [0.4444444444444444, \"#bd3786\"], [0.5555555555555556, \"#d8576b\"], [0.6666666666666666, \"#ed7953\"], [0.7777777777777778, \"#fb9f3a\"], [0.8888888888888888, \"#fdca26\"], [1.0, \"#f0f921\"]]}, \"colorway\": [\"#636efa\", \"#EF553B\", \"#00cc96\", \"#ab63fa\", \"#FFA15A\", \"#19d3f3\", \"#FF6692\", \"#B6E880\", \"#FF97FF\", \"#FECB52\"], \"font\": {\"color\": \"#2a3f5f\"}, \"geo\": {\"bgcolor\": \"white\", \"lakecolor\": \"white\", \"landcolor\": \"#E5ECF6\", \"showlakes\": true, \"showland\": true, \"subunitcolor\": \"white\"}, \"hoverlabel\": {\"align\": \"left\"}, \"hovermode\": \"closest\", \"mapbox\": {\"style\": \"light\"}, \"paper_bgcolor\": \"white\", \"plot_bgcolor\": \"#E5ECF6\", \"polar\": {\"angularaxis\": {\"gridcolor\": \"white\", \"linecolor\": \"white\", \"ticks\": \"\"}, \"bgcolor\": \"#E5ECF6\", \"radialaxis\": {\"gridcolor\": \"white\", \"linecolor\": \"white\", \"ticks\": \"\"}}, \"scene\": {\"xaxis\": {\"backgroundcolor\": \"#E5ECF6\", \"gridcolor\": \"white\", \"gridwidth\": 2, \"linecolor\": \"white\", \"showbackground\": true, \"ticks\": \"\", \"zerolinecolor\": \"white\"}, \"yaxis\": {\"backgroundcolor\": \"#E5ECF6\", \"gridcolor\": \"white\", \"gridwidth\": 2, \"linecolor\": \"white\", \"showbackground\": true, \"ticks\": \"\", \"zerolinecolor\": \"white\"}, \"zaxis\": {\"backgroundcolor\": \"#E5ECF6\", \"gridcolor\": \"white\", \"gridwidth\": 2, \"linecolor\": \"white\", \"showbackground\": true, \"ticks\": \"\", \"zerolinecolor\": \"white\"}}, \"shapedefaults\": {\"line\": {\"color\": \"#2a3f5f\"}}, \"ternary\": {\"aaxis\": {\"gridcolor\": \"white\", \"linecolor\": \"white\", \"ticks\": \"\"}, \"baxis\": {\"gridcolor\": \"white\", \"linecolor\": \"white\", \"ticks\": \"\"}, \"bgcolor\": \"#E5ECF6\", \"caxis\": {\"gridcolor\": \"white\", \"linecolor\": \"white\", \"ticks\": \"\"}}, \"title\": {\"x\": 0.05}, \"xaxis\": {\"automargin\": true, \"gridcolor\": \"white\", \"linecolor\": \"white\", \"ticks\": \"\", \"title\": {\"standoff\": 15}, \"zerolinecolor\": \"white\", \"zerolinewidth\": 2}, \"yaxis\": {\"automargin\": true, \"gridcolor\": \"white\", \"linecolor\": \"white\", \"ticks\": \"\", \"title\": {\"standoff\": 15}, \"zerolinecolor\": \"white\", \"zerolinewidth\": 2}}}, \"xaxis\": {\"anchor\": \"y\", \"domain\": [0.0, 1.0], \"title\": {\"text\": \"Tama\\u00f1o municipio\"}}, \"yaxis\": {\"anchor\": \"x\", \"domain\": [0.0, 1.0], \"title\": {\"text\": \"Coste efectivo medio por habitante\"}}},\n",
       "                        {\"responsive\": true}\n",
       "                    ).then(function(){\n",
       "                            \n",
       "var gd = document.getElementById('e74b61bf-2e98-42a3-b117-92601b80aa38');\n",
       "var x = new MutationObserver(function (mutations, observer) {{\n",
       "        var display = window.getComputedStyle(gd).display;\n",
       "        if (!display || display === 'none') {{\n",
       "            console.log([gd, 'removed!']);\n",
       "            Plotly.purge(gd);\n",
       "            observer.disconnect();\n",
       "        }}\n",
       "}});\n",
       "\n",
       "// Listen for the removal of the full notebook cells\n",
       "var notebookContainer = gd.closest('#notebook-container');\n",
       "if (notebookContainer) {{\n",
       "    x.observe(notebookContainer, {childList: true});\n",
       "}}\n",
       "\n",
       "// Listen for the clearing of the current output cell\n",
       "var outputEl = gd.closest('.output');\n",
       "if (outputEl) {{\n",
       "    x.observe(outputEl, {childList: true});\n",
       "}}\n",
       "\n",
       "                        })\n",
       "                };\n",
       "                });\n",
       "            </script>\n",
       "        </div>"
      ]
     },
     "metadata": {},
     "output_type": "display_data"
    }
   ],
   "source": [
    "px.line(df_table,  x='Tamaño municipio', y=\"Coste efectivo medio por habitante\")"
   ]
  },
  {
   "cell_type": "code",
   "execution_count": 43,
   "metadata": {},
   "outputs": [
    {
     "data": {
      "text/plain": [
       "383.92857142857144"
      ]
     },
     "execution_count": 43,
     "metadata": {},
     "output_type": "execute_result"
    }
   ],
   "source": [
    "10750/28"
   ]
  },
  {
   "cell_type": "code",
   "execution_count": 31,
   "metadata": {},
   "outputs": [
    {
     "data": {
      "text/html": [
       "<div>\n",
       "<style scoped>\n",
       "    .dataframe tbody tr th:only-of-type {\n",
       "        vertical-align: middle;\n",
       "    }\n",
       "\n",
       "    .dataframe tbody tr th {\n",
       "        vertical-align: top;\n",
       "    }\n",
       "\n",
       "    .dataframe thead th {\n",
       "        text-align: right;\n",
       "    }\n",
       "</style>\n",
       "<table border=\"1\" class=\"dataframe\">\n",
       "  <thead>\n",
       "    <tr style=\"text-align: right;\">\n",
       "      <th></th>\n",
       "      <th>Nombre Ente Principal</th>\n",
       "      <th>Descripción</th>\n",
       "      <th>Unidades físicas de referencia</th>\n",
       "      <th>Nº unidades</th>\n",
       "    </tr>\n",
       "  </thead>\n",
       "  <tbody>\n",
       "    <tr>\n",
       "      <th>246075</th>\n",
       "      <td>Oropesa del Mar/Orpesa</td>\n",
       "      <td>Abastecimiento de agua potable</td>\n",
       "      <td>Longitud de la red: metros lineales</td>\n",
       "      <td>156000.00</td>\n",
       "    </tr>\n",
       "    <tr>\n",
       "      <th>246076</th>\n",
       "      <td>Oropesa del Mar/Orpesa</td>\n",
       "      <td>Abastecimiento de agua potable</td>\n",
       "      <td>Nº viviendas conectadas y no conectadas</td>\n",
       "      <td>20876.00</td>\n",
       "    </tr>\n",
       "    <tr>\n",
       "      <th>246077</th>\n",
       "      <td>Oropesa del Mar/Orpesa</td>\n",
       "      <td>Abastos, mercados, lonjas</td>\n",
       "      <td>Nº puestos</td>\n",
       "      <td>175.00</td>\n",
       "    </tr>\n",
       "    <tr>\n",
       "      <th>246078</th>\n",
       "      <td>Oropesa del Mar/Orpesa</td>\n",
       "      <td>Abastos, mercados, lonjas</td>\n",
       "      <td>Superficie total en metros cuadrados</td>\n",
       "      <td>9600.00</td>\n",
       "    </tr>\n",
       "    <tr>\n",
       "      <th>246079</th>\n",
       "      <td>Oropesa del Mar/Orpesa</td>\n",
       "      <td>Acceso a los núcleos de población</td>\n",
       "      <td>Puntos kilométricos: P.K correspondientes al i...</td>\n",
       "      <td>990.70</td>\n",
       "    </tr>\n",
       "    <tr>\n",
       "      <th>246082</th>\n",
       "      <td>Oropesa del Mar/Orpesa</td>\n",
       "      <td>Alcantarillado</td>\n",
       "      <td>Longitud del tramo: metros lineales.</td>\n",
       "      <td>104125.00</td>\n",
       "    </tr>\n",
       "    <tr>\n",
       "      <th>246083</th>\n",
       "      <td>Oropesa del Mar/Orpesa</td>\n",
       "      <td>Alcantarillado</td>\n",
       "      <td>Nº viviendas con servicio</td>\n",
       "      <td>20876.00</td>\n",
       "    </tr>\n",
       "    <tr>\n",
       "      <th>246084</th>\n",
       "      <td>Oropesa del Mar/Orpesa</td>\n",
       "      <td>Alumbrado público</td>\n",
       "      <td>Nº puntos de luz</td>\n",
       "      <td>9950.00</td>\n",
       "    </tr>\n",
       "    <tr>\n",
       "      <th>246085</th>\n",
       "      <td>Oropesa del Mar/Orpesa</td>\n",
       "      <td>Alumbrado público</td>\n",
       "      <td>Potencia instalada</td>\n",
       "      <td>1150.00</td>\n",
       "    </tr>\n",
       "    <tr>\n",
       "      <th>246086</th>\n",
       "      <td>Oropesa del Mar/Orpesa</td>\n",
       "      <td>Alumbrado público</td>\n",
       "      <td>Superficie iluminada: metros lineales</td>\n",
       "      <td>1410.00</td>\n",
       "    </tr>\n",
       "    <tr>\n",
       "      <th>246087</th>\n",
       "      <td>Oropesa del Mar/Orpesa</td>\n",
       "      <td>Biblioteca pública</td>\n",
       "      <td>Nº préstamos por fondo biblitotecario</td>\n",
       "      <td>13419.00</td>\n",
       "    </tr>\n",
       "    <tr>\n",
       "      <th>246088</th>\n",
       "      <td>Oropesa del Mar/Orpesa</td>\n",
       "      <td>Biblioteca pública</td>\n",
       "      <td>Nº publicaciones que constituyen los fondos bi...</td>\n",
       "      <td>23998.00</td>\n",
       "    </tr>\n",
       "    <tr>\n",
       "      <th>246089</th>\n",
       "      <td>Oropesa del Mar/Orpesa</td>\n",
       "      <td>Biblioteca pública</td>\n",
       "      <td>Superficie en metros cuadrados</td>\n",
       "      <td>150.00</td>\n",
       "    </tr>\n",
       "    <tr>\n",
       "      <th>246090</th>\n",
       "      <td>Oropesa del Mar/Orpesa</td>\n",
       "      <td>Cementerio</td>\n",
       "      <td>Superficie total del cementerio: metros cuadrados</td>\n",
       "      <td>5575.00</td>\n",
       "    </tr>\n",
       "    <tr>\n",
       "      <th>246092</th>\n",
       "      <td>Oropesa del Mar/Orpesa</td>\n",
       "      <td>Conservación y rehabilitación de la edificación</td>\n",
       "      <td>Nº edificios con actuaciones de conservación y...</td>\n",
       "      <td>6.00</td>\n",
       "    </tr>\n",
       "    <tr>\n",
       "      <th>246093</th>\n",
       "      <td>Oropesa del Mar/Orpesa</td>\n",
       "      <td>Conservación y rehabilitación de la edificación</td>\n",
       "      <td>Nº personas en plantilla adscritas al servicio</td>\n",
       "      <td>1.00</td>\n",
       "    </tr>\n",
       "    <tr>\n",
       "      <th>246094</th>\n",
       "      <td>Oropesa del Mar/Orpesa</td>\n",
       "      <td>Conservación, mantenimiento y vigilancia de lo...</td>\n",
       "      <td>Nº aulas</td>\n",
       "      <td>44.00</td>\n",
       "    </tr>\n",
       "    <tr>\n",
       "      <th>246095</th>\n",
       "      <td>Oropesa del Mar/Orpesa</td>\n",
       "      <td>Conservación, mantenimiento y vigilancia de lo...</td>\n",
       "      <td>Superficie en metros cuadrados de los edificios</td>\n",
       "      <td>15500.00</td>\n",
       "    </tr>\n",
       "    <tr>\n",
       "      <th>246096</th>\n",
       "      <td>Oropesa del Mar/Orpesa</td>\n",
       "      <td>Cooperar con las Administraciones educativas e...</td>\n",
       "      <td>Superficie nuevos terrenos destinados a centro...</td>\n",
       "      <td>38500.00</td>\n",
       "    </tr>\n",
       "    <tr>\n",
       "      <th>246098</th>\n",
       "      <td>Oropesa del Mar/Orpesa</td>\n",
       "      <td>Equipamientos culturales</td>\n",
       "      <td>Superficie: suma en metros cuadrados de superf...</td>\n",
       "      <td>2500.00</td>\n",
       "    </tr>\n",
       "    <tr>\n",
       "      <th>246099</th>\n",
       "      <td>Oropesa del Mar/Orpesa</td>\n",
       "      <td>Evacuación y tratamiento de aguas residuales</td>\n",
       "      <td>Caudal en metros cúbicos de desagüe</td>\n",
       "      <td>3073291.00</td>\n",
       "    </tr>\n",
       "    <tr>\n",
       "      <th>246100</th>\n",
       "      <td>Oropesa del Mar/Orpesa</td>\n",
       "      <td>Evacuación y tratamiento de aguas residuales</td>\n",
       "      <td>Longitud del tramo: metros lineales.</td>\n",
       "      <td>104125.00</td>\n",
       "    </tr>\n",
       "    <tr>\n",
       "      <th>246101</th>\n",
       "      <td>Oropesa del Mar/Orpesa</td>\n",
       "      <td>Evacuación y tratamiento de aguas residuales</td>\n",
       "      <td>Nº viviendas con servicio</td>\n",
       "      <td>20876.00</td>\n",
       "    </tr>\n",
       "    <tr>\n",
       "      <th>246102</th>\n",
       "      <td>Oropesa del Mar/Orpesa</td>\n",
       "      <td>Ferias</td>\n",
       "      <td>Estimación anual personas asistentes</td>\n",
       "      <td>3.00</td>\n",
       "    </tr>\n",
       "    <tr>\n",
       "      <th>246103</th>\n",
       "      <td>Oropesa del Mar/Orpesa</td>\n",
       "      <td>Ferias</td>\n",
       "      <td>Nº ferias anuales</td>\n",
       "      <td>16.00</td>\n",
       "    </tr>\n",
       "    <tr>\n",
       "      <th>246104</th>\n",
       "      <td>Oropesa del Mar/Orpesa</td>\n",
       "      <td>Información y promoción de la actividad turíst...</td>\n",
       "      <td>Nº efectivos en plantilla asignados al servicio</td>\n",
       "      <td>7.33</td>\n",
       "    </tr>\n",
       "    <tr>\n",
       "      <th>246107</th>\n",
       "      <td>Oropesa del Mar/Orpesa</td>\n",
       "      <td>Instalaciones de ocupación del tiempo libre</td>\n",
       "      <td>Superficie: suma de superficies en metros cuad...</td>\n",
       "      <td>76500.00</td>\n",
       "    </tr>\n",
       "    <tr>\n",
       "      <th>246109</th>\n",
       "      <td>Oropesa del Mar/Orpesa</td>\n",
       "      <td>Instalaciones deportivas</td>\n",
       "      <td>Superficie: suma de superficies de todas las i...</td>\n",
       "      <td>49500.00</td>\n",
       "    </tr>\n",
       "    <tr>\n",
       "      <th>246111</th>\n",
       "      <td>Oropesa del Mar/Orpesa</td>\n",
       "      <td>Instalaciones deportivas de uso público</td>\n",
       "      <td>Superficie: suma de superficies de todas las i...</td>\n",
       "      <td>49500.00</td>\n",
       "    </tr>\n",
       "    <tr>\n",
       "      <th>246113</th>\n",
       "      <td>Oropesa del Mar/Orpesa</td>\n",
       "      <td>Limpieza viaria</td>\n",
       "      <td>Superficie en metros cuadrados con servicio de...</td>\n",
       "      <td>1410000.00</td>\n",
       "    </tr>\n",
       "    <tr>\n",
       "      <th>246114</th>\n",
       "      <td>Oropesa del Mar/Orpesa</td>\n",
       "      <td>Medio ambiente urbano</td>\n",
       "      <td>Nº personas en plantilla adscritas al servicio</td>\n",
       "      <td>4.00</td>\n",
       "    </tr>\n",
       "    <tr>\n",
       "      <th>246115</th>\n",
       "      <td>Oropesa del Mar/Orpesa</td>\n",
       "      <td>Medio ambiente urbano</td>\n",
       "      <td>Superficie en kilómetros cuadrados del núcleo ...</td>\n",
       "      <td>5.86</td>\n",
       "    </tr>\n",
       "    <tr>\n",
       "      <th>246117</th>\n",
       "      <td>Oropesa del Mar/Orpesa</td>\n",
       "      <td>Medio ambiente urbano: Parques y jardines públ...</td>\n",
       "      <td>Superficie: suma en kilómetros cuadrados de pa...</td>\n",
       "      <td>0.90</td>\n",
       "    </tr>\n",
       "    <tr>\n",
       "      <th>246119</th>\n",
       "      <td>Oropesa del Mar/Orpesa</td>\n",
       "      <td>Necesidad social y atención inmediata a person...</td>\n",
       "      <td>Nº Centros de rehabilitación toxicómanos en ré...</td>\n",
       "      <td>1.00</td>\n",
       "    </tr>\n",
       "    <tr>\n",
       "      <th>246120</th>\n",
       "      <td>Oropesa del Mar/Orpesa</td>\n",
       "      <td>Necesidad social y atención inmediata a person...</td>\n",
       "      <td>Nº Guarderías Infantiles (no los parvularios n...</td>\n",
       "      <td>2.00</td>\n",
       "    </tr>\n",
       "    <tr>\n",
       "      <th>246122</th>\n",
       "      <td>Oropesa del Mar/Orpesa</td>\n",
       "      <td>Necesidad social y atención inmediata a person...</td>\n",
       "      <td>Nº otros centros de atención social</td>\n",
       "      <td>3.00</td>\n",
       "    </tr>\n",
       "    <tr>\n",
       "      <th>246123</th>\n",
       "      <td>Oropesa del Mar/Orpesa</td>\n",
       "      <td>Necesidad social y atención inmediata a person...</td>\n",
       "      <td>Nº personas en plantilla adscritas al servicio</td>\n",
       "      <td>9.00</td>\n",
       "    </tr>\n",
       "    <tr>\n",
       "      <th>246124</th>\n",
       "      <td>Oropesa del Mar/Orpesa</td>\n",
       "      <td>Necesidad social y atención inmediata a person...</td>\n",
       "      <td>Superficie en metros cuadrados de: Centros de ...</td>\n",
       "      <td>656.00</td>\n",
       "    </tr>\n",
       "    <tr>\n",
       "      <th>246125</th>\n",
       "      <td>Oropesa del Mar/Orpesa</td>\n",
       "      <td>Parque público</td>\n",
       "      <td>Superficie: suma en metros cuadrados de la sup...</td>\n",
       "      <td>902000.00</td>\n",
       "    </tr>\n",
       "    <tr>\n",
       "      <th>246126</th>\n",
       "      <td>Oropesa del Mar/Orpesa</td>\n",
       "      <td>Participar en la vigilancia del cumplimiento d...</td>\n",
       "      <td>Nº efectivos en plantilla asignados al servicio</td>\n",
       "      <td>1.00</td>\n",
       "    </tr>\n",
       "    <tr>\n",
       "      <th>246127</th>\n",
       "      <td>Oropesa del Mar/Orpesa</td>\n",
       "      <td>Pavimentación de las vías públicas</td>\n",
       "      <td>Superficie de los tramos pavimentados (metros ...</td>\n",
       "      <td>833275.00</td>\n",
       "    </tr>\n",
       "    <tr>\n",
       "      <th>246128</th>\n",
       "      <td>Oropesa del Mar/Orpesa</td>\n",
       "      <td>Policía local</td>\n",
       "      <td>Nº efectivos asignados al servicio</td>\n",
       "      <td>43.00</td>\n",
       "    </tr>\n",
       "    <tr>\n",
       "      <th>246129</th>\n",
       "      <td>Oropesa del Mar/Orpesa</td>\n",
       "      <td>Policía local</td>\n",
       "      <td>Nº vehículos adscritos al servicio</td>\n",
       "      <td>14.00</td>\n",
       "    </tr>\n",
       "    <tr>\n",
       "      <th>246132</th>\n",
       "      <td>Oropesa del Mar/Orpesa</td>\n",
       "      <td>Promoción de la cultura</td>\n",
       "      <td>Nº campañas realizadas al año</td>\n",
       "      <td>23.00</td>\n",
       "    </tr>\n",
       "    <tr>\n",
       "      <th>246133</th>\n",
       "      <td>Oropesa del Mar/Orpesa</td>\n",
       "      <td>Promoción de la cultura</td>\n",
       "      <td>Nº efectivos en plantilla asignados al servicio</td>\n",
       "      <td>3.00</td>\n",
       "    </tr>\n",
       "    <tr>\n",
       "      <th>246134</th>\n",
       "      <td>Oropesa del Mar/Orpesa</td>\n",
       "      <td>Promoción de la participación de los ciudadano...</td>\n",
       "      <td>Nº campañas realizadas al año</td>\n",
       "      <td>1.00</td>\n",
       "    </tr>\n",
       "    <tr>\n",
       "      <th>246135</th>\n",
       "      <td>Oropesa del Mar/Orpesa</td>\n",
       "      <td>Promoción de la participación de los ciudadano...</td>\n",
       "      <td>Nº efectivos en plantilla asignados al servicio</td>\n",
       "      <td>4.00</td>\n",
       "    </tr>\n",
       "    <tr>\n",
       "      <th>246136</th>\n",
       "      <td>Oropesa del Mar/Orpesa</td>\n",
       "      <td>Promoción del deporte</td>\n",
       "      <td>Nº campañas realizadas al año</td>\n",
       "      <td>15.00</td>\n",
       "    </tr>\n",
       "    <tr>\n",
       "      <th>246137</th>\n",
       "      <td>Oropesa del Mar/Orpesa</td>\n",
       "      <td>Promoción del deporte</td>\n",
       "      <td>Nº efectivos en plantilla asignados al servicio</td>\n",
       "      <td>1.00</td>\n",
       "    </tr>\n",
       "    <tr>\n",
       "      <th>246139</th>\n",
       "      <td>Oropesa del Mar/Orpesa</td>\n",
       "      <td>Promoción y gestión de la vivienda de protecci...</td>\n",
       "      <td>Superficie de terrenos destinados a edificació...</td>\n",
       "      <td>218796.00</td>\n",
       "    </tr>\n",
       "    <tr>\n",
       "      <th>246142</th>\n",
       "      <td>Oropesa del Mar/Orpesa</td>\n",
       "      <td>Protección contra contaminación acústica, lumí...</td>\n",
       "      <td>Nº personas en plantilla adscritas al servicio</td>\n",
       "      <td>2.00</td>\n",
       "    </tr>\n",
       "    <tr>\n",
       "      <th>246143</th>\n",
       "      <td>Oropesa del Mar/Orpesa</td>\n",
       "      <td>Protección contra contaminación acústica, lumí...</td>\n",
       "      <td>Superficie en kilómetros cuadrados del núcleo ...</td>\n",
       "      <td>5.86</td>\n",
       "    </tr>\n",
       "    <tr>\n",
       "      <th>246146</th>\n",
       "      <td>Oropesa del Mar/Orpesa</td>\n",
       "      <td>Protección y gestión del Patrimonio histórico</td>\n",
       "      <td>Nº bienes culturales protegidos</td>\n",
       "      <td>19.00</td>\n",
       "    </tr>\n",
       "    <tr>\n",
       "      <th>246147</th>\n",
       "      <td>Oropesa del Mar/Orpesa</td>\n",
       "      <td>Protección y gestión del Patrimonio histórico</td>\n",
       "      <td>Nº personas en plantilla adscritas al servicio</td>\n",
       "      <td>2.00</td>\n",
       "    </tr>\n",
       "    <tr>\n",
       "      <th>246148</th>\n",
       "      <td>Oropesa del Mar/Orpesa</td>\n",
       "      <td>Recogida de residuos</td>\n",
       "      <td>Kilómetros lineales del trayecto de recogida</td>\n",
       "      <td>85.80</td>\n",
       "    </tr>\n",
       "    <tr>\n",
       "      <th>246149</th>\n",
       "      <td>Oropesa del Mar/Orpesa</td>\n",
       "      <td>Recogida de residuos</td>\n",
       "      <td>Nº contenedores</td>\n",
       "      <td>1145.00</td>\n",
       "    </tr>\n",
       "    <tr>\n",
       "      <th>246150</th>\n",
       "      <td>Oropesa del Mar/Orpesa</td>\n",
       "      <td>Recogida de residuos</td>\n",
       "      <td>Periodicidad (1 - DI, 2 - AL, 3 - SE, 4 - QU, ...</td>\n",
       "      <td>1.00</td>\n",
       "    </tr>\n",
       "    <tr>\n",
       "      <th>246151</th>\n",
       "      <td>Oropesa del Mar/Orpesa</td>\n",
       "      <td>Recogida de residuos</td>\n",
       "      <td>Producción anual residuos urbanos: toneladas</td>\n",
       "      <td>12075.00</td>\n",
       "    </tr>\n",
       "    <tr>\n",
       "      <th>246152</th>\n",
       "      <td>Oropesa del Mar/Orpesa</td>\n",
       "      <td>Transporte colectivo urbano de viajeros</td>\n",
       "      <td>Nº total de autobuses</td>\n",
       "      <td>1.00</td>\n",
       "    </tr>\n",
       "    <tr>\n",
       "      <th>246153</th>\n",
       "      <td>Oropesa del Mar/Orpesa</td>\n",
       "      <td>Transporte colectivo urbano de viajeros</td>\n",
       "      <td>Nº total de kms de calzada de la red en trayec...</td>\n",
       "      <td>44487.00</td>\n",
       "    </tr>\n",
       "    <tr>\n",
       "      <th>246154</th>\n",
       "      <td>Oropesa del Mar/Orpesa</td>\n",
       "      <td>Transporte colectivo urbano de viajeros</td>\n",
       "      <td>Nº total de viajeros al año</td>\n",
       "      <td>28705.00</td>\n",
       "    </tr>\n",
       "    <tr>\n",
       "      <th>246158</th>\n",
       "      <td>Oropesa del Mar/Orpesa</td>\n",
       "      <td>Urbanismo: planeamiento, gestión, ejecución y ...</td>\n",
       "      <td>Superficie urbanizable (kilómetros cuadrados)</td>\n",
       "      <td>4.88</td>\n",
       "    </tr>\n",
       "    <tr>\n",
       "      <th>246159</th>\n",
       "      <td>Oropesa del Mar/Orpesa</td>\n",
       "      <td>Urbanismo: planeamiento, gestión, ejecución y ...</td>\n",
       "      <td>Superficie urbanizada (kilómetros cuadrados)</td>\n",
       "      <td>5.86</td>\n",
       "    </tr>\n",
       "  </tbody>\n",
       "</table>\n",
       "</div>"
      ],
      "text/plain": [
       "         Nombre Ente Principal  ... Nº unidades\n",
       "246075  Oropesa del Mar/Orpesa  ...   156000.00\n",
       "246076  Oropesa del Mar/Orpesa  ...    20876.00\n",
       "246077  Oropesa del Mar/Orpesa  ...      175.00\n",
       "246078  Oropesa del Mar/Orpesa  ...     9600.00\n",
       "246079  Oropesa del Mar/Orpesa  ...      990.70\n",
       "246082  Oropesa del Mar/Orpesa  ...   104125.00\n",
       "246083  Oropesa del Mar/Orpesa  ...    20876.00\n",
       "246084  Oropesa del Mar/Orpesa  ...     9950.00\n",
       "246085  Oropesa del Mar/Orpesa  ...     1150.00\n",
       "246086  Oropesa del Mar/Orpesa  ...     1410.00\n",
       "246087  Oropesa del Mar/Orpesa  ...    13419.00\n",
       "246088  Oropesa del Mar/Orpesa  ...    23998.00\n",
       "246089  Oropesa del Mar/Orpesa  ...      150.00\n",
       "246090  Oropesa del Mar/Orpesa  ...     5575.00\n",
       "246092  Oropesa del Mar/Orpesa  ...        6.00\n",
       "246093  Oropesa del Mar/Orpesa  ...        1.00\n",
       "246094  Oropesa del Mar/Orpesa  ...       44.00\n",
       "246095  Oropesa del Mar/Orpesa  ...    15500.00\n",
       "246096  Oropesa del Mar/Orpesa  ...    38500.00\n",
       "246098  Oropesa del Mar/Orpesa  ...     2500.00\n",
       "246099  Oropesa del Mar/Orpesa  ...  3073291.00\n",
       "246100  Oropesa del Mar/Orpesa  ...   104125.00\n",
       "246101  Oropesa del Mar/Orpesa  ...    20876.00\n",
       "246102  Oropesa del Mar/Orpesa  ...        3.00\n",
       "246103  Oropesa del Mar/Orpesa  ...       16.00\n",
       "246104  Oropesa del Mar/Orpesa  ...        7.33\n",
       "246107  Oropesa del Mar/Orpesa  ...    76500.00\n",
       "246109  Oropesa del Mar/Orpesa  ...    49500.00\n",
       "246111  Oropesa del Mar/Orpesa  ...    49500.00\n",
       "246113  Oropesa del Mar/Orpesa  ...  1410000.00\n",
       "246114  Oropesa del Mar/Orpesa  ...        4.00\n",
       "246115  Oropesa del Mar/Orpesa  ...        5.86\n",
       "246117  Oropesa del Mar/Orpesa  ...        0.90\n",
       "246119  Oropesa del Mar/Orpesa  ...        1.00\n",
       "246120  Oropesa del Mar/Orpesa  ...        2.00\n",
       "246122  Oropesa del Mar/Orpesa  ...        3.00\n",
       "246123  Oropesa del Mar/Orpesa  ...        9.00\n",
       "246124  Oropesa del Mar/Orpesa  ...      656.00\n",
       "246125  Oropesa del Mar/Orpesa  ...   902000.00\n",
       "246126  Oropesa del Mar/Orpesa  ...        1.00\n",
       "246127  Oropesa del Mar/Orpesa  ...   833275.00\n",
       "246128  Oropesa del Mar/Orpesa  ...       43.00\n",
       "246129  Oropesa del Mar/Orpesa  ...       14.00\n",
       "246132  Oropesa del Mar/Orpesa  ...       23.00\n",
       "246133  Oropesa del Mar/Orpesa  ...        3.00\n",
       "246134  Oropesa del Mar/Orpesa  ...        1.00\n",
       "246135  Oropesa del Mar/Orpesa  ...        4.00\n",
       "246136  Oropesa del Mar/Orpesa  ...       15.00\n",
       "246137  Oropesa del Mar/Orpesa  ...        1.00\n",
       "246139  Oropesa del Mar/Orpesa  ...   218796.00\n",
       "246142  Oropesa del Mar/Orpesa  ...        2.00\n",
       "246143  Oropesa del Mar/Orpesa  ...        5.86\n",
       "246146  Oropesa del Mar/Orpesa  ...       19.00\n",
       "246147  Oropesa del Mar/Orpesa  ...        2.00\n",
       "246148  Oropesa del Mar/Orpesa  ...       85.80\n",
       "246149  Oropesa del Mar/Orpesa  ...     1145.00\n",
       "246150  Oropesa del Mar/Orpesa  ...        1.00\n",
       "246151  Oropesa del Mar/Orpesa  ...    12075.00\n",
       "246152  Oropesa del Mar/Orpesa  ...        1.00\n",
       "246153  Oropesa del Mar/Orpesa  ...    44487.00\n",
       "246154  Oropesa del Mar/Orpesa  ...    28705.00\n",
       "246158  Oropesa del Mar/Orpesa  ...        4.88\n",
       "246159  Oropesa del Mar/Orpesa  ...        5.86\n",
       "\n",
       "[63 rows x 4 columns]"
      ]
     },
     "execution_count": 31,
     "metadata": {},
     "output_type": "execute_result"
    }
   ],
   "source": [
    "pd.set_option('display.max_rows', 65)\n",
    "\n",
    "df_indicadores_pob_pivot.loc[df_indicadores_pob_pivot['Nombre Ente Principal']=='Oropesa del Mar/Orpesa']"
   ]
  },
  {
   "cell_type": "code",
   "execution_count": 26,
   "metadata": {},
   "outputs": [
    {
     "data": {
      "text/plain": [
       "69"
      ]
     },
     "execution_count": 26,
     "metadata": {},
     "output_type": "execute_result"
    }
   ],
   "source": [
    "1+3+1+3+2+3+3+7+33+3+2+1+1+6"
   ]
  },
  {
   "cell_type": "code",
   "execution_count": 32,
   "metadata": {},
   "outputs": [
    {
     "data": {
      "text/plain": [
       "205.34883720930233"
      ]
     },
     "execution_count": 32,
     "metadata": {},
     "output_type": "execute_result"
    }
   ],
   "source": [
    "8830/43"
   ]
  },
  {
   "cell_type": "code",
   "execution_count": null,
   "metadata": {},
   "outputs": [],
   "source": []
  }
 ],
 "metadata": {
  "kernelspec": {
   "display_name": "Python [conda env:ml_env]",
   "language": "python",
   "name": "conda-env-ml_env-py"
  },
  "language_info": {
   "codemirror_mode": {
    "name": "ipython",
    "version": 3
   },
   "file_extension": ".py",
   "mimetype": "text/x-python",
   "name": "python",
   "nbconvert_exporter": "python",
   "pygments_lexer": "ipython3",
   "version": "3.7.7"
  }
 },
 "nbformat": 4,
 "nbformat_minor": 4
}
