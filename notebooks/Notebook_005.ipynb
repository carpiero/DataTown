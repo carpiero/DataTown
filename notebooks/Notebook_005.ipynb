{
 "cells": [
  {
   "cell_type": "code",
   "execution_count": 1,
   "metadata": {},
   "outputs": [],
   "source": [
    "from sklearn.preprocessing import RobustScaler, StandardScaler\n",
    "from statsmodels.robust.scale import huber\n",
    "import pandas as pd\n",
    "import matplotlib.pyplot as plt\n",
    "import seaborn as sns\n",
    "import numpy as np\n",
    "import plotly.express as px\n",
    "import re\n",
    "import locale\n",
    "import geopandas\n",
    "plt.style.use('seaborn')\n",
    "%matplotlib inline\n",
    "\n",
    "pd.set_option('display.max_rows', 0)\n",
    "pd.set_option('display.max_columns', 0)"
   ]
  },
  {
   "cell_type": "code",
   "execution_count": 2,
   "metadata": {},
   "outputs": [],
   "source": [
    "df_final_pob=pd.read_parquet('../data/main_processed/df_final_pob.parquet')\n",
    "\n",
    "df_indicadores_pob=pd.read_parquet('../data/main_processed/df_indicadores_pob.parquet')\n",
    "\n",
    "df_indicadores_pob_pivot=pd.read_parquet('../data/main_processed/df_indicadores_pob_pivot.parquet')\n",
    "\n",
    "df_final_pob_melt=pd.read_parquet('../data/main_processed/df_final_pob_melt.parquet')\n",
    "\n",
    "df_final_pob_melt_PC=pd.read_parquet('../data/main_processed/df_final_pob_melt_PC.parquet')\n",
    "\n",
    "CCAA_CO = pd.read_parquet('../data/main_processed/CCAA_CO.parquet')\n",
    "MUNI_CO = pd.read_parquet('../data/main_processed/MUNI_CO.parquet')\n",
    "PROV_CO = pd.read_parquet('../data/main_processed/PROV_CO.parquet')\n",
    "\n",
    "df_final_pob_dropdown=pd.read_parquet('../data/main_processed/df_final_pob_dropdown.parquet')\n",
    "\n",
    "df_final_pob_dropdown_c=pd.read_parquet('../data/main_processed/df_final_pob_dropdown_c.parquet')\n",
    "\n",
    "df_final_pob_poblaciontext=pd.read_parquet('../data/main_processed/df_final_pob_poblaciontext.parquet')\n",
    "\n",
    "\n",
    "# %%timeit"
   ]
  },
  {
   "cell_type": "code",
   "execution_count": 6,
   "metadata": {},
   "outputs": [
    {
     "data": {
      "text/plain": [
       "Index(['CCAA', 'Provincia', 'Tipo Ente Principal', 'Nombre Ente Principal',\n",
       "       'Código Ente Principal', 'Abastecimiento de agua potable',\n",
       "       'Abastos, mercados, lonjas ', 'Acceso a los núcleos de población',\n",
       "       'Actividades funerarias', 'Alcantarillado', 'Alumbrado público',\n",
       "       'Biblioteca pública', 'Cementerio', 'Comercio ambulante',\n",
       "       'Conservación y rehabilitación de la edificación',\n",
       "       'Conservación, mantenimiento y vigilancia de los edificios destinados a educación',\n",
       "       'Cooperar con las Administraciones educativas en la obtención de solares',\n",
       "       'Equipamientos culturales',\n",
       "       'Evacuación y tratamiento de aguas residuales', 'Ferias ',\n",
       "       'Información y promoción de la actividad turística de interés y ámbito local',\n",
       "       'Infraestructura viaria y otros equipamientos de titularidad de la entidad local',\n",
       "       'Instalaciones de ocupación del tiempo libre',\n",
       "       'Instalaciones deportivas', 'Instalaciones deportivas de uso público',\n",
       "       'Limpieza viaria', 'Medio ambiente urbano',\n",
       "       'Medio ambiente urbano: Gestión de los residuos sólidos urbanos',\n",
       "       'Medio ambiente urbano: Parques y jardines públicos',\n",
       "       'Necesidad social y atención inmediata a personas en riesgo de exclusión social',\n",
       "       'Parque público',\n",
       "       'Participar en la vigilancia del cumplimiento de la escolaridad obligatoria',\n",
       "       'Pavimentación de las vías públicas', 'Policía local',\n",
       "       'Prevención y extinción de incendios', 'Promoción de la cultura',\n",
       "       'Promoción de la participación de los ciudadanos en las T.I.C.',\n",
       "       'Promoción del deporte',\n",
       "       'Promoción y gestión de la vivienda de protección pública',\n",
       "       'Protección civil',\n",
       "       'Protección contra contaminación acústica, lumínica y atmosférica',\n",
       "       'Protección de la salubridad pública',\n",
       "       'Protección y gestión del Patrimonio histórico', 'Recogida de residuos',\n",
       "       'Transporte colectivo urbano de viajeros', 'Tratamiento de residuos',\n",
       "       'Tráfico, estacionamiento de vehículos y movilidad',\n",
       "       'Urbanismo: planeamiento, gestión, ejecución y disciplina urbanística',\n",
       "       'codigoM', 'Población 2018', 'TOTAL',\n",
       "       'PC_Abastecimiento de agua potable', 'PC_Abastos, mercados, lonjas ',\n",
       "       'PC_Acceso a los núcleos de población', 'PC_Actividades funerarias',\n",
       "       'PC_Alcantarillado', 'PC_Alumbrado público', 'PC_Biblioteca pública',\n",
       "       'PC_Cementerio', 'PC_Comercio ambulante',\n",
       "       'PC_Conservación y rehabilitación de la edificación',\n",
       "       'PC_Conservación, mantenimiento y vigilancia de los edificios destinados a educación',\n",
       "       'PC_Cooperar con las Administraciones educativas en la obtención de solares',\n",
       "       'PC_Equipamientos culturales',\n",
       "       'PC_Evacuación y tratamiento de aguas residuales', 'PC_Ferias ',\n",
       "       'PC_Información y promoción de la actividad turística de interés y ámbito local',\n",
       "       'PC_Infraestructura viaria y otros equipamientos de titularidad de la entidad local',\n",
       "       'PC_Instalaciones de ocupación del tiempo libre',\n",
       "       'PC_Instalaciones deportivas',\n",
       "       'PC_Instalaciones deportivas de uso público', 'PC_Limpieza viaria',\n",
       "       'PC_Medio ambiente urbano',\n",
       "       'PC_Medio ambiente urbano: Gestión de los residuos sólidos urbanos',\n",
       "       'PC_Medio ambiente urbano: Parques y jardines públicos',\n",
       "       'PC_Necesidad social y atención inmediata a personas en riesgo de exclusión social',\n",
       "       'PC_Parque público',\n",
       "       'PC_Participar en la vigilancia del cumplimiento de la escolaridad obligatoria',\n",
       "       'PC_Pavimentación de las vías públicas', 'PC_Policía local',\n",
       "       'PC_Prevención y extinción de incendios', 'PC_Promoción de la cultura',\n",
       "       'PC_Promoción de la participación de los ciudadanos en las T.I.C.',\n",
       "       'PC_Promoción del deporte',\n",
       "       'PC_Promoción y gestión de la vivienda de protección pública',\n",
       "       'PC_Protección civil',\n",
       "       'PC_Protección contra contaminación acústica, lumínica y atmosférica',\n",
       "       'PC_Protección de la salubridad pública',\n",
       "       'PC_Protección y gestión del Patrimonio histórico',\n",
       "       'PC_Recogida de residuos', 'PC_Transporte colectivo urbano de viajeros',\n",
       "       'PC_Tratamiento de residuos',\n",
       "       'PC_Tráfico, estacionamiento de vehículos y movilidad',\n",
       "       'PC_Urbanismo: planeamiento, gestión, ejecución y disciplina urbanística',\n",
       "       'PC_TOTAL', 'cohorte_pob', 'codigo_geo'],\n",
       "      dtype='object')"
      ]
     },
     "execution_count": 6,
     "metadata": {},
     "output_type": "execute_result"
    }
   ],
   "source": [
    "df_final_pob.columns"
   ]
  },
  {
   "cell_type": "code",
   "execution_count": null,
   "metadata": {},
   "outputs": [],
   "source": []
  },
  {
   "cell_type": "code",
   "execution_count": null,
   "metadata": {},
   "outputs": [],
   "source": []
  },
  {
   "cell_type": "code",
   "execution_count": null,
   "metadata": {},
   "outputs": [],
   "source": []
  },
  {
   "cell_type": "code",
   "execution_count": null,
   "metadata": {},
   "outputs": [],
   "source": []
  }
 ],
 "metadata": {
  "kernelspec": {
   "display_name": "Python [conda env:ml_env]",
   "language": "python",
   "name": "conda-env-ml_env-py"
  },
  "language_info": {
   "codemirror_mode": {
    "name": "ipython",
    "version": 3
   },
   "file_extension": ".py",
   "mimetype": "text/x-python",
   "name": "python",
   "nbconvert_exporter": "python",
   "pygments_lexer": "ipython3",
   "version": "3.7.7"
  }
 },
 "nbformat": 4,
 "nbformat_minor": 4
}
